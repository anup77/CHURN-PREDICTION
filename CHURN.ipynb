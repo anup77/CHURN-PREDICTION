{
  "nbformat": 4,
  "nbformat_minor": 0,
  "metadata": {
    "colab": {
      "name": "CHURN.ipynb",
      "provenance": []
    },
    "kernelspec": {
      "name": "python3",
      "display_name": "Python 3"
    },
    "language_info": {
      "name": "python"
    }
  },
  "cells": [
    {
      "cell_type": "code",
      "execution_count": null,
      "metadata": {
        "id": "-KTBCRRfCr2r"
      },
      "outputs": [],
      "source": [
        "import numpy as np \n",
        "import pandas as pd\n",
        "import matplotlib.pyplot as plt # for visualization\n",
        "import seaborn as sns # for visualization\n",
        "#from collections import Counter\n",
        "#import warnings\n",
        "#warnings.filterwarnings(\"ignore\")\n",
        "#import os\n",
        "#for dirname, _, filenames in os.walk('/kaggle/input'):\n",
        " #   for filename in filenames:\n",
        "  #      print(os.path.join(dirname, filename))"
      ]
    },
    {
      "cell_type": "code",
      "source": [
        "d = pd.read_csv('Telecom_customer churn.csv')\n",
        "df = d.copy() # copy for easier experimentation during code writing.\n",
        "df"
      ],
      "metadata": {
        "colab": {
          "base_uri": "https://localhost:8080/",
          "height": 488
        },
        "id": "Rgrd48WIC6yx",
        "outputId": "d310ec05-3db3-4c93-dc47-24c774331eae"
      },
      "execution_count": null,
      "outputs": [
        {
          "output_type": "execute_result",
          "data": {
            "text/plain": [
              "       rev_Mean  mou_Mean  totmrc_Mean  da_Mean  ovrmou_Mean  ovrrev_Mean  \\\n",
              "0       23.9975    219.25       22.500   0.2475         0.00          0.0   \n",
              "1       57.4925    482.75       37.425   0.2475        22.75          9.1   \n",
              "2       16.9900     10.25       16.990   0.0000         0.00          0.0   \n",
              "3       38.0000      7.50       38.000   0.0000         0.00          0.0   \n",
              "4       55.2300    570.50       71.980   0.0000         0.00          0.0   \n",
              "...         ...       ...          ...      ...          ...          ...   \n",
              "99995       NaN       NaN          NaN      NaN          NaN          NaN   \n",
              "99996       NaN       NaN          NaN      NaN          NaN          NaN   \n",
              "99997       NaN       NaN          NaN      NaN          NaN          NaN   \n",
              "99998       NaN       NaN          NaN      NaN          NaN          NaN   \n",
              "99999       NaN       NaN          NaN      NaN          NaN          NaN   \n",
              "\n",
              "       vceovr_Mean  datovr_Mean  roam_Mean  change_mou  ...  forgntvl  ethnic  \\\n",
              "0              0.0          0.0        0.0     -157.25  ...       0.0       N   \n",
              "1              9.1          0.0        0.0      532.25  ...       0.0       Z   \n",
              "2              0.0          0.0        0.0       -4.25  ...       0.0       N   \n",
              "3              0.0          0.0        0.0       -1.50  ...       0.0       U   \n",
              "4              0.0          0.0        0.0       38.50  ...       0.0       I   \n",
              "...            ...          ...        ...         ...  ...       ...     ...   \n",
              "99995          NaN          NaN        NaN         NaN  ...       0.0       S   \n",
              "99996          NaN          NaN        NaN         NaN  ...       0.0       N   \n",
              "99997          NaN          NaN        NaN         NaN  ...       0.0       U   \n",
              "99998          NaN          NaN        NaN         NaN  ...       0.0       S   \n",
              "99999          NaN          NaN        NaN         NaN  ...       0.0       H   \n",
              "\n",
              "       kid0_2  kid3_5  kid6_10  kid11_15  kid16_17  creditcd  eqpdays  \\\n",
              "0           U       U        U         U         U         Y    361.0   \n",
              "1           U       U        U         U         U         Y    240.0   \n",
              "2           U       Y        U         U         U         Y   1504.0   \n",
              "3           Y       U        U         U         U         Y   1812.0   \n",
              "4           U       U        U         U         U         Y    434.0   \n",
              "...       ...     ...      ...       ...       ...       ...      ...   \n",
              "99995       U       U        U         Y         U         Y    773.0   \n",
              "99996       U       U        Y         Y         Y         Y    835.0   \n",
              "99997       Y       Y        U         U         U         N    433.0   \n",
              "99998       U       U        U         U         U         N     75.0   \n",
              "99999       U       U        U         U         U         N      5.0   \n",
              "\n",
              "       Customer_ID  \n",
              "0          1000001  \n",
              "1          1000002  \n",
              "2          1000003  \n",
              "3          1000004  \n",
              "4          1000005  \n",
              "...            ...  \n",
              "99995      1099996  \n",
              "99996      1099997  \n",
              "99997      1099998  \n",
              "99998      1099999  \n",
              "99999      1100000  \n",
              "\n",
              "[100000 rows x 100 columns]"
            ],
            "text/html": [
              "\n",
              "  <div id=\"df-7f07803c-6a3f-40f5-99ea-157a438e8399\">\n",
              "    <div class=\"colab-df-container\">\n",
              "      <div>\n",
              "<style scoped>\n",
              "    .dataframe tbody tr th:only-of-type {\n",
              "        vertical-align: middle;\n",
              "    }\n",
              "\n",
              "    .dataframe tbody tr th {\n",
              "        vertical-align: top;\n",
              "    }\n",
              "\n",
              "    .dataframe thead th {\n",
              "        text-align: right;\n",
              "    }\n",
              "</style>\n",
              "<table border=\"1\" class=\"dataframe\">\n",
              "  <thead>\n",
              "    <tr style=\"text-align: right;\">\n",
              "      <th></th>\n",
              "      <th>rev_Mean</th>\n",
              "      <th>mou_Mean</th>\n",
              "      <th>totmrc_Mean</th>\n",
              "      <th>da_Mean</th>\n",
              "      <th>ovrmou_Mean</th>\n",
              "      <th>ovrrev_Mean</th>\n",
              "      <th>vceovr_Mean</th>\n",
              "      <th>datovr_Mean</th>\n",
              "      <th>roam_Mean</th>\n",
              "      <th>change_mou</th>\n",
              "      <th>...</th>\n",
              "      <th>forgntvl</th>\n",
              "      <th>ethnic</th>\n",
              "      <th>kid0_2</th>\n",
              "      <th>kid3_5</th>\n",
              "      <th>kid6_10</th>\n",
              "      <th>kid11_15</th>\n",
              "      <th>kid16_17</th>\n",
              "      <th>creditcd</th>\n",
              "      <th>eqpdays</th>\n",
              "      <th>Customer_ID</th>\n",
              "    </tr>\n",
              "  </thead>\n",
              "  <tbody>\n",
              "    <tr>\n",
              "      <th>0</th>\n",
              "      <td>23.9975</td>\n",
              "      <td>219.25</td>\n",
              "      <td>22.500</td>\n",
              "      <td>0.2475</td>\n",
              "      <td>0.00</td>\n",
              "      <td>0.0</td>\n",
              "      <td>0.0</td>\n",
              "      <td>0.0</td>\n",
              "      <td>0.0</td>\n",
              "      <td>-157.25</td>\n",
              "      <td>...</td>\n",
              "      <td>0.0</td>\n",
              "      <td>N</td>\n",
              "      <td>U</td>\n",
              "      <td>U</td>\n",
              "      <td>U</td>\n",
              "      <td>U</td>\n",
              "      <td>U</td>\n",
              "      <td>Y</td>\n",
              "      <td>361.0</td>\n",
              "      <td>1000001</td>\n",
              "    </tr>\n",
              "    <tr>\n",
              "      <th>1</th>\n",
              "      <td>57.4925</td>\n",
              "      <td>482.75</td>\n",
              "      <td>37.425</td>\n",
              "      <td>0.2475</td>\n",
              "      <td>22.75</td>\n",
              "      <td>9.1</td>\n",
              "      <td>9.1</td>\n",
              "      <td>0.0</td>\n",
              "      <td>0.0</td>\n",
              "      <td>532.25</td>\n",
              "      <td>...</td>\n",
              "      <td>0.0</td>\n",
              "      <td>Z</td>\n",
              "      <td>U</td>\n",
              "      <td>U</td>\n",
              "      <td>U</td>\n",
              "      <td>U</td>\n",
              "      <td>U</td>\n",
              "      <td>Y</td>\n",
              "      <td>240.0</td>\n",
              "      <td>1000002</td>\n",
              "    </tr>\n",
              "    <tr>\n",
              "      <th>2</th>\n",
              "      <td>16.9900</td>\n",
              "      <td>10.25</td>\n",
              "      <td>16.990</td>\n",
              "      <td>0.0000</td>\n",
              "      <td>0.00</td>\n",
              "      <td>0.0</td>\n",
              "      <td>0.0</td>\n",
              "      <td>0.0</td>\n",
              "      <td>0.0</td>\n",
              "      <td>-4.25</td>\n",
              "      <td>...</td>\n",
              "      <td>0.0</td>\n",
              "      <td>N</td>\n",
              "      <td>U</td>\n",
              "      <td>Y</td>\n",
              "      <td>U</td>\n",
              "      <td>U</td>\n",
              "      <td>U</td>\n",
              "      <td>Y</td>\n",
              "      <td>1504.0</td>\n",
              "      <td>1000003</td>\n",
              "    </tr>\n",
              "    <tr>\n",
              "      <th>3</th>\n",
              "      <td>38.0000</td>\n",
              "      <td>7.50</td>\n",
              "      <td>38.000</td>\n",
              "      <td>0.0000</td>\n",
              "      <td>0.00</td>\n",
              "      <td>0.0</td>\n",
              "      <td>0.0</td>\n",
              "      <td>0.0</td>\n",
              "      <td>0.0</td>\n",
              "      <td>-1.50</td>\n",
              "      <td>...</td>\n",
              "      <td>0.0</td>\n",
              "      <td>U</td>\n",
              "      <td>Y</td>\n",
              "      <td>U</td>\n",
              "      <td>U</td>\n",
              "      <td>U</td>\n",
              "      <td>U</td>\n",
              "      <td>Y</td>\n",
              "      <td>1812.0</td>\n",
              "      <td>1000004</td>\n",
              "    </tr>\n",
              "    <tr>\n",
              "      <th>4</th>\n",
              "      <td>55.2300</td>\n",
              "      <td>570.50</td>\n",
              "      <td>71.980</td>\n",
              "      <td>0.0000</td>\n",
              "      <td>0.00</td>\n",
              "      <td>0.0</td>\n",
              "      <td>0.0</td>\n",
              "      <td>0.0</td>\n",
              "      <td>0.0</td>\n",
              "      <td>38.50</td>\n",
              "      <td>...</td>\n",
              "      <td>0.0</td>\n",
              "      <td>I</td>\n",
              "      <td>U</td>\n",
              "      <td>U</td>\n",
              "      <td>U</td>\n",
              "      <td>U</td>\n",
              "      <td>U</td>\n",
              "      <td>Y</td>\n",
              "      <td>434.0</td>\n",
              "      <td>1000005</td>\n",
              "    </tr>\n",
              "    <tr>\n",
              "      <th>...</th>\n",
              "      <td>...</td>\n",
              "      <td>...</td>\n",
              "      <td>...</td>\n",
              "      <td>...</td>\n",
              "      <td>...</td>\n",
              "      <td>...</td>\n",
              "      <td>...</td>\n",
              "      <td>...</td>\n",
              "      <td>...</td>\n",
              "      <td>...</td>\n",
              "      <td>...</td>\n",
              "      <td>...</td>\n",
              "      <td>...</td>\n",
              "      <td>...</td>\n",
              "      <td>...</td>\n",
              "      <td>...</td>\n",
              "      <td>...</td>\n",
              "      <td>...</td>\n",
              "      <td>...</td>\n",
              "      <td>...</td>\n",
              "      <td>...</td>\n",
              "    </tr>\n",
              "    <tr>\n",
              "      <th>99995</th>\n",
              "      <td>NaN</td>\n",
              "      <td>NaN</td>\n",
              "      <td>NaN</td>\n",
              "      <td>NaN</td>\n",
              "      <td>NaN</td>\n",
              "      <td>NaN</td>\n",
              "      <td>NaN</td>\n",
              "      <td>NaN</td>\n",
              "      <td>NaN</td>\n",
              "      <td>NaN</td>\n",
              "      <td>...</td>\n",
              "      <td>0.0</td>\n",
              "      <td>S</td>\n",
              "      <td>U</td>\n",
              "      <td>U</td>\n",
              "      <td>U</td>\n",
              "      <td>Y</td>\n",
              "      <td>U</td>\n",
              "      <td>Y</td>\n",
              "      <td>773.0</td>\n",
              "      <td>1099996</td>\n",
              "    </tr>\n",
              "    <tr>\n",
              "      <th>99996</th>\n",
              "      <td>NaN</td>\n",
              "      <td>NaN</td>\n",
              "      <td>NaN</td>\n",
              "      <td>NaN</td>\n",
              "      <td>NaN</td>\n",
              "      <td>NaN</td>\n",
              "      <td>NaN</td>\n",
              "      <td>NaN</td>\n",
              "      <td>NaN</td>\n",
              "      <td>NaN</td>\n",
              "      <td>...</td>\n",
              "      <td>0.0</td>\n",
              "      <td>N</td>\n",
              "      <td>U</td>\n",
              "      <td>U</td>\n",
              "      <td>Y</td>\n",
              "      <td>Y</td>\n",
              "      <td>Y</td>\n",
              "      <td>Y</td>\n",
              "      <td>835.0</td>\n",
              "      <td>1099997</td>\n",
              "    </tr>\n",
              "    <tr>\n",
              "      <th>99997</th>\n",
              "      <td>NaN</td>\n",
              "      <td>NaN</td>\n",
              "      <td>NaN</td>\n",
              "      <td>NaN</td>\n",
              "      <td>NaN</td>\n",
              "      <td>NaN</td>\n",
              "      <td>NaN</td>\n",
              "      <td>NaN</td>\n",
              "      <td>NaN</td>\n",
              "      <td>NaN</td>\n",
              "      <td>...</td>\n",
              "      <td>0.0</td>\n",
              "      <td>U</td>\n",
              "      <td>Y</td>\n",
              "      <td>Y</td>\n",
              "      <td>U</td>\n",
              "      <td>U</td>\n",
              "      <td>U</td>\n",
              "      <td>N</td>\n",
              "      <td>433.0</td>\n",
              "      <td>1099998</td>\n",
              "    </tr>\n",
              "    <tr>\n",
              "      <th>99998</th>\n",
              "      <td>NaN</td>\n",
              "      <td>NaN</td>\n",
              "      <td>NaN</td>\n",
              "      <td>NaN</td>\n",
              "      <td>NaN</td>\n",
              "      <td>NaN</td>\n",
              "      <td>NaN</td>\n",
              "      <td>NaN</td>\n",
              "      <td>NaN</td>\n",
              "      <td>NaN</td>\n",
              "      <td>...</td>\n",
              "      <td>0.0</td>\n",
              "      <td>S</td>\n",
              "      <td>U</td>\n",
              "      <td>U</td>\n",
              "      <td>U</td>\n",
              "      <td>U</td>\n",
              "      <td>U</td>\n",
              "      <td>N</td>\n",
              "      <td>75.0</td>\n",
              "      <td>1099999</td>\n",
              "    </tr>\n",
              "    <tr>\n",
              "      <th>99999</th>\n",
              "      <td>NaN</td>\n",
              "      <td>NaN</td>\n",
              "      <td>NaN</td>\n",
              "      <td>NaN</td>\n",
              "      <td>NaN</td>\n",
              "      <td>NaN</td>\n",
              "      <td>NaN</td>\n",
              "      <td>NaN</td>\n",
              "      <td>NaN</td>\n",
              "      <td>NaN</td>\n",
              "      <td>...</td>\n",
              "      <td>0.0</td>\n",
              "      <td>H</td>\n",
              "      <td>U</td>\n",
              "      <td>U</td>\n",
              "      <td>U</td>\n",
              "      <td>U</td>\n",
              "      <td>U</td>\n",
              "      <td>N</td>\n",
              "      <td>5.0</td>\n",
              "      <td>1100000</td>\n",
              "    </tr>\n",
              "  </tbody>\n",
              "</table>\n",
              "<p>100000 rows × 100 columns</p>\n",
              "</div>\n",
              "      <button class=\"colab-df-convert\" onclick=\"convertToInteractive('df-7f07803c-6a3f-40f5-99ea-157a438e8399')\"\n",
              "              title=\"Convert this dataframe to an interactive table.\"\n",
              "              style=\"display:none;\">\n",
              "        \n",
              "  <svg xmlns=\"http://www.w3.org/2000/svg\" height=\"24px\"viewBox=\"0 0 24 24\"\n",
              "       width=\"24px\">\n",
              "    <path d=\"M0 0h24v24H0V0z\" fill=\"none\"/>\n",
              "    <path d=\"M18.56 5.44l.94 2.06.94-2.06 2.06-.94-2.06-.94-.94-2.06-.94 2.06-2.06.94zm-11 1L8.5 8.5l.94-2.06 2.06-.94-2.06-.94L8.5 2.5l-.94 2.06-2.06.94zm10 10l.94 2.06.94-2.06 2.06-.94-2.06-.94-.94-2.06-.94 2.06-2.06.94z\"/><path d=\"M17.41 7.96l-1.37-1.37c-.4-.4-.92-.59-1.43-.59-.52 0-1.04.2-1.43.59L10.3 9.45l-7.72 7.72c-.78.78-.78 2.05 0 2.83L4 21.41c.39.39.9.59 1.41.59.51 0 1.02-.2 1.41-.59l7.78-7.78 2.81-2.81c.8-.78.8-2.07 0-2.86zM5.41 20L4 18.59l7.72-7.72 1.47 1.35L5.41 20z\"/>\n",
              "  </svg>\n",
              "      </button>\n",
              "      \n",
              "  <style>\n",
              "    .colab-df-container {\n",
              "      display:flex;\n",
              "      flex-wrap:wrap;\n",
              "      gap: 12px;\n",
              "    }\n",
              "\n",
              "    .colab-df-convert {\n",
              "      background-color: #E8F0FE;\n",
              "      border: none;\n",
              "      border-radius: 50%;\n",
              "      cursor: pointer;\n",
              "      display: none;\n",
              "      fill: #1967D2;\n",
              "      height: 32px;\n",
              "      padding: 0 0 0 0;\n",
              "      width: 32px;\n",
              "    }\n",
              "\n",
              "    .colab-df-convert:hover {\n",
              "      background-color: #E2EBFA;\n",
              "      box-shadow: 0px 1px 2px rgba(60, 64, 67, 0.3), 0px 1px 3px 1px rgba(60, 64, 67, 0.15);\n",
              "      fill: #174EA6;\n",
              "    }\n",
              "\n",
              "    [theme=dark] .colab-df-convert {\n",
              "      background-color: #3B4455;\n",
              "      fill: #D2E3FC;\n",
              "    }\n",
              "\n",
              "    [theme=dark] .colab-df-convert:hover {\n",
              "      background-color: #434B5C;\n",
              "      box-shadow: 0px 1px 3px 1px rgba(0, 0, 0, 0.15);\n",
              "      filter: drop-shadow(0px 1px 2px rgba(0, 0, 0, 0.3));\n",
              "      fill: #FFFFFF;\n",
              "    }\n",
              "  </style>\n",
              "\n",
              "      <script>\n",
              "        const buttonEl =\n",
              "          document.querySelector('#df-7f07803c-6a3f-40f5-99ea-157a438e8399 button.colab-df-convert');\n",
              "        buttonEl.style.display =\n",
              "          google.colab.kernel.accessAllowed ? 'block' : 'none';\n",
              "\n",
              "        async function convertToInteractive(key) {\n",
              "          const element = document.querySelector('#df-7f07803c-6a3f-40f5-99ea-157a438e8399');\n",
              "          const dataTable =\n",
              "            await google.colab.kernel.invokeFunction('convertToInteractive',\n",
              "                                                     [key], {});\n",
              "          if (!dataTable) return;\n",
              "\n",
              "          const docLinkHtml = 'Like what you see? Visit the ' +\n",
              "            '<a target=\"_blank\" href=https://colab.research.google.com/notebooks/data_table.ipynb>data table notebook</a>'\n",
              "            + ' to learn more about interactive tables.';\n",
              "          element.innerHTML = '';\n",
              "          dataTable['output_type'] = 'display_data';\n",
              "          await google.colab.output.renderOutput(dataTable, element);\n",
              "          const docLink = document.createElement('div');\n",
              "          docLink.innerHTML = docLinkHtml;\n",
              "          element.appendChild(docLink);\n",
              "        }\n",
              "      </script>\n",
              "    </div>\n",
              "  </div>\n",
              "  "
            ]
          },
          "metadata": {},
          "execution_count": 2
        }
      ]
    },
    {
      "cell_type": "code",
      "source": [
        "print(df.shape) # row x columns of data\n",
        "print(df.ndim) # dimension of data\n",
        "print(df.size) # size of data"
      ],
      "metadata": {
        "colab": {
          "base_uri": "https://localhost:8080/"
        },
        "id": "FTlQLwf5C7AG",
        "outputId": "401d529c-487e-490f-8a24-f180dadcde7e"
      },
      "execution_count": null,
      "outputs": [
        {
          "output_type": "stream",
          "name": "stdout",
          "text": [
            "(100000, 100)\n",
            "2\n",
            "10000000\n"
          ]
        }
      ]
    },
    {
      "cell_type": "code",
      "source": [
        "df.describe()"
      ],
      "metadata": {
        "colab": {
          "base_uri": "https://localhost:8080/",
          "height": 394
        },
        "id": "dahPQpDIC7Lf",
        "outputId": "eafe2ca6-8b75-4eb5-fd53-d3158453561e"
      },
      "execution_count": null,
      "outputs": [
        {
          "output_type": "execute_result",
          "data": {
            "text/plain": [
              "           rev_Mean      mou_Mean   totmrc_Mean       da_Mean   ovrmou_Mean  \\\n",
              "count  99643.000000  99643.000000  99643.000000  99643.000000  99643.000000   \n",
              "mean      58.719985    513.559937     46.179136      0.888828     41.072247   \n",
              "std       46.291677    525.168140     23.623489      2.177619     97.296150   \n",
              "min       -6.167500      0.000000    -26.915000      0.000000      0.000000   \n",
              "25%       33.260000    150.750000     30.000000      0.000000      0.000000   \n",
              "50%       48.195000    355.500000     44.990000      0.247500      2.750000   \n",
              "75%       70.750000    703.000000     59.990000      0.990000     42.000000   \n",
              "max     3843.262500  12206.750000    409.990000    159.390000   4320.750000   \n",
              "\n",
              "        ovrrev_Mean   vceovr_Mean   datovr_Mean     roam_Mean    change_mou  \\\n",
              "count  99643.000000  99643.000000  99643.000000  99643.000000  99109.000000   \n",
              "mean      13.559560     13.295062      0.261318      1.286405    -13.933818   \n",
              "std       30.500885     30.056089      3.126531     14.711374    276.087509   \n",
              "min        0.000000      0.000000      0.000000      0.000000  -3875.000000   \n",
              "25%        0.000000      0.000000      0.000000      0.000000    -87.000000   \n",
              "50%        1.000000      0.682500      0.000000      0.000000     -6.250000   \n",
              "75%       14.437500     14.025000      0.000000      0.235000     63.000000   \n",
              "max     1102.400000    896.087500    423.540000   3685.200000  31219.250000   \n",
              "\n",
              "       ...        models         truck            rv           lor  \\\n",
              "count  ...  99999.000000  98268.000000  98268.000000  69810.000000   \n",
              "mean   ...      1.545825      0.188820      0.082580      6.177238   \n",
              "std    ...      0.898395      0.391368      0.275248      4.735267   \n",
              "min    ...      1.000000      0.000000      0.000000      0.000000   \n",
              "25%    ...      1.000000      0.000000      0.000000      2.000000   \n",
              "50%    ...      1.000000      0.000000      0.000000      5.000000   \n",
              "75%    ...      2.000000      0.000000      0.000000      9.000000   \n",
              "max    ...     16.000000      1.000000      1.000000     15.000000   \n",
              "\n",
              "             adults        income      numbcars      forgntvl       eqpdays  \\\n",
              "count  76981.000000  74564.000000  50634.000000  98268.000000  99999.000000   \n",
              "mean       2.530326      5.783112      1.567563      0.057974    391.932309   \n",
              "std        1.452819      2.182132      0.625456      0.233696    256.482193   \n",
              "min        1.000000      1.000000      1.000000      0.000000     -5.000000   \n",
              "25%        1.000000      4.000000      1.000000      0.000000    212.000000   \n",
              "50%        2.000000      6.000000      1.000000      0.000000    342.000000   \n",
              "75%        3.000000      7.000000      2.000000      0.000000    530.000000   \n",
              "max        6.000000      9.000000      3.000000      1.000000   1823.000000   \n",
              "\n",
              "        Customer_ID  \n",
              "count  1.000000e+05  \n",
              "mean   1.050000e+06  \n",
              "std    2.886766e+04  \n",
              "min    1.000001e+06  \n",
              "25%    1.025001e+06  \n",
              "50%    1.050000e+06  \n",
              "75%    1.075000e+06  \n",
              "max    1.100000e+06  \n",
              "\n",
              "[8 rows x 79 columns]"
            ],
            "text/html": [
              "\n",
              "  <div id=\"df-7454ca48-6e60-4058-bdf2-f99ab2aaaef0\">\n",
              "    <div class=\"colab-df-container\">\n",
              "      <div>\n",
              "<style scoped>\n",
              "    .dataframe tbody tr th:only-of-type {\n",
              "        vertical-align: middle;\n",
              "    }\n",
              "\n",
              "    .dataframe tbody tr th {\n",
              "        vertical-align: top;\n",
              "    }\n",
              "\n",
              "    .dataframe thead th {\n",
              "        text-align: right;\n",
              "    }\n",
              "</style>\n",
              "<table border=\"1\" class=\"dataframe\">\n",
              "  <thead>\n",
              "    <tr style=\"text-align: right;\">\n",
              "      <th></th>\n",
              "      <th>rev_Mean</th>\n",
              "      <th>mou_Mean</th>\n",
              "      <th>totmrc_Mean</th>\n",
              "      <th>da_Mean</th>\n",
              "      <th>ovrmou_Mean</th>\n",
              "      <th>ovrrev_Mean</th>\n",
              "      <th>vceovr_Mean</th>\n",
              "      <th>datovr_Mean</th>\n",
              "      <th>roam_Mean</th>\n",
              "      <th>change_mou</th>\n",
              "      <th>...</th>\n",
              "      <th>models</th>\n",
              "      <th>truck</th>\n",
              "      <th>rv</th>\n",
              "      <th>lor</th>\n",
              "      <th>adults</th>\n",
              "      <th>income</th>\n",
              "      <th>numbcars</th>\n",
              "      <th>forgntvl</th>\n",
              "      <th>eqpdays</th>\n",
              "      <th>Customer_ID</th>\n",
              "    </tr>\n",
              "  </thead>\n",
              "  <tbody>\n",
              "    <tr>\n",
              "      <th>count</th>\n",
              "      <td>99643.000000</td>\n",
              "      <td>99643.000000</td>\n",
              "      <td>99643.000000</td>\n",
              "      <td>99643.000000</td>\n",
              "      <td>99643.000000</td>\n",
              "      <td>99643.000000</td>\n",
              "      <td>99643.000000</td>\n",
              "      <td>99643.000000</td>\n",
              "      <td>99643.000000</td>\n",
              "      <td>99109.000000</td>\n",
              "      <td>...</td>\n",
              "      <td>99999.000000</td>\n",
              "      <td>98268.000000</td>\n",
              "      <td>98268.000000</td>\n",
              "      <td>69810.000000</td>\n",
              "      <td>76981.000000</td>\n",
              "      <td>74564.000000</td>\n",
              "      <td>50634.000000</td>\n",
              "      <td>98268.000000</td>\n",
              "      <td>99999.000000</td>\n",
              "      <td>1.000000e+05</td>\n",
              "    </tr>\n",
              "    <tr>\n",
              "      <th>mean</th>\n",
              "      <td>58.719985</td>\n",
              "      <td>513.559937</td>\n",
              "      <td>46.179136</td>\n",
              "      <td>0.888828</td>\n",
              "      <td>41.072247</td>\n",
              "      <td>13.559560</td>\n",
              "      <td>13.295062</td>\n",
              "      <td>0.261318</td>\n",
              "      <td>1.286405</td>\n",
              "      <td>-13.933818</td>\n",
              "      <td>...</td>\n",
              "      <td>1.545825</td>\n",
              "      <td>0.188820</td>\n",
              "      <td>0.082580</td>\n",
              "      <td>6.177238</td>\n",
              "      <td>2.530326</td>\n",
              "      <td>5.783112</td>\n",
              "      <td>1.567563</td>\n",
              "      <td>0.057974</td>\n",
              "      <td>391.932309</td>\n",
              "      <td>1.050000e+06</td>\n",
              "    </tr>\n",
              "    <tr>\n",
              "      <th>std</th>\n",
              "      <td>46.291677</td>\n",
              "      <td>525.168140</td>\n",
              "      <td>23.623489</td>\n",
              "      <td>2.177619</td>\n",
              "      <td>97.296150</td>\n",
              "      <td>30.500885</td>\n",
              "      <td>30.056089</td>\n",
              "      <td>3.126531</td>\n",
              "      <td>14.711374</td>\n",
              "      <td>276.087509</td>\n",
              "      <td>...</td>\n",
              "      <td>0.898395</td>\n",
              "      <td>0.391368</td>\n",
              "      <td>0.275248</td>\n",
              "      <td>4.735267</td>\n",
              "      <td>1.452819</td>\n",
              "      <td>2.182132</td>\n",
              "      <td>0.625456</td>\n",
              "      <td>0.233696</td>\n",
              "      <td>256.482193</td>\n",
              "      <td>2.886766e+04</td>\n",
              "    </tr>\n",
              "    <tr>\n",
              "      <th>min</th>\n",
              "      <td>-6.167500</td>\n",
              "      <td>0.000000</td>\n",
              "      <td>-26.915000</td>\n",
              "      <td>0.000000</td>\n",
              "      <td>0.000000</td>\n",
              "      <td>0.000000</td>\n",
              "      <td>0.000000</td>\n",
              "      <td>0.000000</td>\n",
              "      <td>0.000000</td>\n",
              "      <td>-3875.000000</td>\n",
              "      <td>...</td>\n",
              "      <td>1.000000</td>\n",
              "      <td>0.000000</td>\n",
              "      <td>0.000000</td>\n",
              "      <td>0.000000</td>\n",
              "      <td>1.000000</td>\n",
              "      <td>1.000000</td>\n",
              "      <td>1.000000</td>\n",
              "      <td>0.000000</td>\n",
              "      <td>-5.000000</td>\n",
              "      <td>1.000001e+06</td>\n",
              "    </tr>\n",
              "    <tr>\n",
              "      <th>25%</th>\n",
              "      <td>33.260000</td>\n",
              "      <td>150.750000</td>\n",
              "      <td>30.000000</td>\n",
              "      <td>0.000000</td>\n",
              "      <td>0.000000</td>\n",
              "      <td>0.000000</td>\n",
              "      <td>0.000000</td>\n",
              "      <td>0.000000</td>\n",
              "      <td>0.000000</td>\n",
              "      <td>-87.000000</td>\n",
              "      <td>...</td>\n",
              "      <td>1.000000</td>\n",
              "      <td>0.000000</td>\n",
              "      <td>0.000000</td>\n",
              "      <td>2.000000</td>\n",
              "      <td>1.000000</td>\n",
              "      <td>4.000000</td>\n",
              "      <td>1.000000</td>\n",
              "      <td>0.000000</td>\n",
              "      <td>212.000000</td>\n",
              "      <td>1.025001e+06</td>\n",
              "    </tr>\n",
              "    <tr>\n",
              "      <th>50%</th>\n",
              "      <td>48.195000</td>\n",
              "      <td>355.500000</td>\n",
              "      <td>44.990000</td>\n",
              "      <td>0.247500</td>\n",
              "      <td>2.750000</td>\n",
              "      <td>1.000000</td>\n",
              "      <td>0.682500</td>\n",
              "      <td>0.000000</td>\n",
              "      <td>0.000000</td>\n",
              "      <td>-6.250000</td>\n",
              "      <td>...</td>\n",
              "      <td>1.000000</td>\n",
              "      <td>0.000000</td>\n",
              "      <td>0.000000</td>\n",
              "      <td>5.000000</td>\n",
              "      <td>2.000000</td>\n",
              "      <td>6.000000</td>\n",
              "      <td>1.000000</td>\n",
              "      <td>0.000000</td>\n",
              "      <td>342.000000</td>\n",
              "      <td>1.050000e+06</td>\n",
              "    </tr>\n",
              "    <tr>\n",
              "      <th>75%</th>\n",
              "      <td>70.750000</td>\n",
              "      <td>703.000000</td>\n",
              "      <td>59.990000</td>\n",
              "      <td>0.990000</td>\n",
              "      <td>42.000000</td>\n",
              "      <td>14.437500</td>\n",
              "      <td>14.025000</td>\n",
              "      <td>0.000000</td>\n",
              "      <td>0.235000</td>\n",
              "      <td>63.000000</td>\n",
              "      <td>...</td>\n",
              "      <td>2.000000</td>\n",
              "      <td>0.000000</td>\n",
              "      <td>0.000000</td>\n",
              "      <td>9.000000</td>\n",
              "      <td>3.000000</td>\n",
              "      <td>7.000000</td>\n",
              "      <td>2.000000</td>\n",
              "      <td>0.000000</td>\n",
              "      <td>530.000000</td>\n",
              "      <td>1.075000e+06</td>\n",
              "    </tr>\n",
              "    <tr>\n",
              "      <th>max</th>\n",
              "      <td>3843.262500</td>\n",
              "      <td>12206.750000</td>\n",
              "      <td>409.990000</td>\n",
              "      <td>159.390000</td>\n",
              "      <td>4320.750000</td>\n",
              "      <td>1102.400000</td>\n",
              "      <td>896.087500</td>\n",
              "      <td>423.540000</td>\n",
              "      <td>3685.200000</td>\n",
              "      <td>31219.250000</td>\n",
              "      <td>...</td>\n",
              "      <td>16.000000</td>\n",
              "      <td>1.000000</td>\n",
              "      <td>1.000000</td>\n",
              "      <td>15.000000</td>\n",
              "      <td>6.000000</td>\n",
              "      <td>9.000000</td>\n",
              "      <td>3.000000</td>\n",
              "      <td>1.000000</td>\n",
              "      <td>1823.000000</td>\n",
              "      <td>1.100000e+06</td>\n",
              "    </tr>\n",
              "  </tbody>\n",
              "</table>\n",
              "<p>8 rows × 79 columns</p>\n",
              "</div>\n",
              "      <button class=\"colab-df-convert\" onclick=\"convertToInteractive('df-7454ca48-6e60-4058-bdf2-f99ab2aaaef0')\"\n",
              "              title=\"Convert this dataframe to an interactive table.\"\n",
              "              style=\"display:none;\">\n",
              "        \n",
              "  <svg xmlns=\"http://www.w3.org/2000/svg\" height=\"24px\"viewBox=\"0 0 24 24\"\n",
              "       width=\"24px\">\n",
              "    <path d=\"M0 0h24v24H0V0z\" fill=\"none\"/>\n",
              "    <path d=\"M18.56 5.44l.94 2.06.94-2.06 2.06-.94-2.06-.94-.94-2.06-.94 2.06-2.06.94zm-11 1L8.5 8.5l.94-2.06 2.06-.94-2.06-.94L8.5 2.5l-.94 2.06-2.06.94zm10 10l.94 2.06.94-2.06 2.06-.94-2.06-.94-.94-2.06-.94 2.06-2.06.94z\"/><path d=\"M17.41 7.96l-1.37-1.37c-.4-.4-.92-.59-1.43-.59-.52 0-1.04.2-1.43.59L10.3 9.45l-7.72 7.72c-.78.78-.78 2.05 0 2.83L4 21.41c.39.39.9.59 1.41.59.51 0 1.02-.2 1.41-.59l7.78-7.78 2.81-2.81c.8-.78.8-2.07 0-2.86zM5.41 20L4 18.59l7.72-7.72 1.47 1.35L5.41 20z\"/>\n",
              "  </svg>\n",
              "      </button>\n",
              "      \n",
              "  <style>\n",
              "    .colab-df-container {\n",
              "      display:flex;\n",
              "      flex-wrap:wrap;\n",
              "      gap: 12px;\n",
              "    }\n",
              "\n",
              "    .colab-df-convert {\n",
              "      background-color: #E8F0FE;\n",
              "      border: none;\n",
              "      border-radius: 50%;\n",
              "      cursor: pointer;\n",
              "      display: none;\n",
              "      fill: #1967D2;\n",
              "      height: 32px;\n",
              "      padding: 0 0 0 0;\n",
              "      width: 32px;\n",
              "    }\n",
              "\n",
              "    .colab-df-convert:hover {\n",
              "      background-color: #E2EBFA;\n",
              "      box-shadow: 0px 1px 2px rgba(60, 64, 67, 0.3), 0px 1px 3px 1px rgba(60, 64, 67, 0.15);\n",
              "      fill: #174EA6;\n",
              "    }\n",
              "\n",
              "    [theme=dark] .colab-df-convert {\n",
              "      background-color: #3B4455;\n",
              "      fill: #D2E3FC;\n",
              "    }\n",
              "\n",
              "    [theme=dark] .colab-df-convert:hover {\n",
              "      background-color: #434B5C;\n",
              "      box-shadow: 0px 1px 3px 1px rgba(0, 0, 0, 0.15);\n",
              "      filter: drop-shadow(0px 1px 2px rgba(0, 0, 0, 0.3));\n",
              "      fill: #FFFFFF;\n",
              "    }\n",
              "  </style>\n",
              "\n",
              "      <script>\n",
              "        const buttonEl =\n",
              "          document.querySelector('#df-7454ca48-6e60-4058-bdf2-f99ab2aaaef0 button.colab-df-convert');\n",
              "        buttonEl.style.display =\n",
              "          google.colab.kernel.accessAllowed ? 'block' : 'none';\n",
              "\n",
              "        async function convertToInteractive(key) {\n",
              "          const element = document.querySelector('#df-7454ca48-6e60-4058-bdf2-f99ab2aaaef0');\n",
              "          const dataTable =\n",
              "            await google.colab.kernel.invokeFunction('convertToInteractive',\n",
              "                                                     [key], {});\n",
              "          if (!dataTable) return;\n",
              "\n",
              "          const docLinkHtml = 'Like what you see? Visit the ' +\n",
              "            '<a target=\"_blank\" href=https://colab.research.google.com/notebooks/data_table.ipynb>data table notebook</a>'\n",
              "            + ' to learn more about interactive tables.';\n",
              "          element.innerHTML = '';\n",
              "          dataTable['output_type'] = 'display_data';\n",
              "          await google.colab.output.renderOutput(dataTable, element);\n",
              "          const docLink = document.createElement('div');\n",
              "          docLink.innerHTML = docLinkHtml;\n",
              "          element.appendChild(docLink);\n",
              "        }\n",
              "      </script>\n",
              "    </div>\n",
              "  </div>\n",
              "  "
            ]
          },
          "metadata": {},
          "execution_count": 4
        }
      ]
    },
    {
      "cell_type": "code",
      "source": [
        "df.info()"
      ],
      "metadata": {
        "colab": {
          "base_uri": "https://localhost:8080/"
        },
        "id": "v0GJ13EJC7Vd",
        "outputId": "39d6cd61-0e9f-4dfc-b6db-f5be33208985"
      },
      "execution_count": null,
      "outputs": [
        {
          "output_type": "stream",
          "name": "stdout",
          "text": [
            "<class 'pandas.core.frame.DataFrame'>\n",
            "RangeIndex: 100000 entries, 0 to 99999\n",
            "Data columns (total 100 columns):\n",
            " #   Column            Non-Null Count   Dtype  \n",
            "---  ------            --------------   -----  \n",
            " 0   rev_Mean          99643 non-null   float64\n",
            " 1   mou_Mean          99643 non-null   float64\n",
            " 2   totmrc_Mean       99643 non-null   float64\n",
            " 3   da_Mean           99643 non-null   float64\n",
            " 4   ovrmou_Mean       99643 non-null   float64\n",
            " 5   ovrrev_Mean       99643 non-null   float64\n",
            " 6   vceovr_Mean       99643 non-null   float64\n",
            " 7   datovr_Mean       99643 non-null   float64\n",
            " 8   roam_Mean         99643 non-null   float64\n",
            " 9   change_mou        99109 non-null   float64\n",
            " 10  change_rev        99109 non-null   float64\n",
            " 11  drop_vce_Mean     100000 non-null  float64\n",
            " 12  drop_dat_Mean     100000 non-null  float64\n",
            " 13  blck_vce_Mean     100000 non-null  float64\n",
            " 14  blck_dat_Mean     100000 non-null  float64\n",
            " 15  unan_vce_Mean     100000 non-null  float64\n",
            " 16  unan_dat_Mean     100000 non-null  float64\n",
            " 17  plcd_vce_Mean     100000 non-null  float64\n",
            " 18  plcd_dat_Mean     100000 non-null  float64\n",
            " 19  recv_vce_Mean     100000 non-null  float64\n",
            " 20  recv_sms_Mean     100000 non-null  float64\n",
            " 21  comp_vce_Mean     100000 non-null  float64\n",
            " 22  comp_dat_Mean     100000 non-null  float64\n",
            " 23  custcare_Mean     100000 non-null  float64\n",
            " 24  ccrndmou_Mean     100000 non-null  float64\n",
            " 25  cc_mou_Mean       100000 non-null  float64\n",
            " 26  inonemin_Mean     100000 non-null  float64\n",
            " 27  threeway_Mean     100000 non-null  float64\n",
            " 28  mou_cvce_Mean     100000 non-null  float64\n",
            " 29  mou_cdat_Mean     100000 non-null  float64\n",
            " 30  mou_rvce_Mean     100000 non-null  float64\n",
            " 31  owylis_vce_Mean   100000 non-null  float64\n",
            " 32  mouowylisv_Mean   100000 non-null  float64\n",
            " 33  iwylis_vce_Mean   100000 non-null  float64\n",
            " 34  mouiwylisv_Mean   100000 non-null  float64\n",
            " 35  peak_vce_Mean     100000 non-null  float64\n",
            " 36  peak_dat_Mean     100000 non-null  float64\n",
            " 37  mou_peav_Mean     100000 non-null  float64\n",
            " 38  mou_pead_Mean     100000 non-null  float64\n",
            " 39  opk_vce_Mean      100000 non-null  float64\n",
            " 40  opk_dat_Mean      100000 non-null  float64\n",
            " 41  mou_opkv_Mean     100000 non-null  float64\n",
            " 42  mou_opkd_Mean     100000 non-null  float64\n",
            " 43  drop_blk_Mean     100000 non-null  float64\n",
            " 44  attempt_Mean      100000 non-null  float64\n",
            " 45  complete_Mean     100000 non-null  float64\n",
            " 46  callfwdv_Mean     100000 non-null  float64\n",
            " 47  callwait_Mean     100000 non-null  float64\n",
            " 48  churn             100000 non-null  int64  \n",
            " 49  months            100000 non-null  int64  \n",
            " 50  uniqsubs          100000 non-null  int64  \n",
            " 51  actvsubs          100000 non-null  int64  \n",
            " 52  new_cell          100000 non-null  object \n",
            " 53  crclscod          100000 non-null  object \n",
            " 54  asl_flag          100000 non-null  object \n",
            " 55  totcalls          100000 non-null  int64  \n",
            " 56  totmou            100000 non-null  float64\n",
            " 57  totrev            100000 non-null  float64\n",
            " 58  adjrev            100000 non-null  float64\n",
            " 59  adjmou            100000 non-null  float64\n",
            " 60  adjqty            100000 non-null  int64  \n",
            " 61  avgrev            100000 non-null  float64\n",
            " 62  avgmou            100000 non-null  float64\n",
            " 63  avgqty            100000 non-null  float64\n",
            " 64  avg3mou           100000 non-null  int64  \n",
            " 65  avg3qty           100000 non-null  int64  \n",
            " 66  avg3rev           100000 non-null  int64  \n",
            " 67  avg6mou           97161 non-null   float64\n",
            " 68  avg6qty           97161 non-null   float64\n",
            " 69  avg6rev           97161 non-null   float64\n",
            " 70  prizm_social_one  92612 non-null   object \n",
            " 71  area              99960 non-null   object \n",
            " 72  dualband          99999 non-null   object \n",
            " 73  refurb_new        99999 non-null   object \n",
            " 74  hnd_price         99153 non-null   float64\n",
            " 75  phones            99999 non-null   float64\n",
            " 76  models            99999 non-null   float64\n",
            " 77  hnd_webcap        89811 non-null   object \n",
            " 78  truck             98268 non-null   float64\n",
            " 79  rv                98268 non-null   float64\n",
            " 80  ownrent           66294 non-null   object \n",
            " 81  lor               69810 non-null   float64\n",
            " 82  dwlltype          68091 non-null   object \n",
            " 83  marital           98268 non-null   object \n",
            " 84  adults            76981 non-null   float64\n",
            " 85  infobase          77921 non-null   object \n",
            " 86  income            74564 non-null   float64\n",
            " 87  numbcars          50634 non-null   float64\n",
            " 88  HHstatin          62077 non-null   object \n",
            " 89  dwllsize          61692 non-null   object \n",
            " 90  forgntvl          98268 non-null   float64\n",
            " 91  ethnic            98268 non-null   object \n",
            " 92  kid0_2            98268 non-null   object \n",
            " 93  kid3_5            98268 non-null   object \n",
            " 94  kid6_10           98268 non-null   object \n",
            " 95  kid11_15          98268 non-null   object \n",
            " 96  kid16_17          98268 non-null   object \n",
            " 97  creditcd          98268 non-null   object \n",
            " 98  eqpdays           99999 non-null   float64\n",
            " 99  Customer_ID       100000 non-null  int64  \n",
            "dtypes: float64(69), int64(10), object(21)\n",
            "memory usage: 76.3+ MB\n"
          ]
        }
      ]
    },
    {
      "cell_type": "code",
      "source": [
        "df.drop([\"Customer_ID\"], axis = 1, inplace=True)"
      ],
      "metadata": {
        "id": "1MNZs4msC7dk"
      },
      "execution_count": null,
      "outputs": []
    },
    {
      "cell_type": "code",
      "source": [
        "obj_col = df.select_dtypes(include = 'object').columns\n",
        "obj_col"
      ],
      "metadata": {
        "colab": {
          "base_uri": "https://localhost:8080/"
        },
        "id": "9ReqlAucC7gy",
        "outputId": "7e01b687-03f2-4ea7-8690-fcbfb983c9ef"
      },
      "execution_count": null,
      "outputs": [
        {
          "output_type": "execute_result",
          "data": {
            "text/plain": [
              "Index(['new_cell', 'crclscod', 'asl_flag', 'prizm_social_one', 'area',\n",
              "       'dualband', 'refurb_new', 'hnd_webcap', 'ownrent', 'dwlltype',\n",
              "       'marital', 'infobase', 'HHstatin', 'dwllsize', 'ethnic', 'kid0_2',\n",
              "       'kid3_5', 'kid6_10', 'kid11_15', 'kid16_17', 'creditcd'],\n",
              "      dtype='object')"
            ]
          },
          "metadata": {},
          "execution_count": 7
        }
      ]
    },
    {
      "cell_type": "code",
      "source": [
        "stay = df[(df['churn'] ==0) ].count()[1]\n",
        "churn = df[(df['churn'] ==1) ].count()[1]\n",
        "print (\"num of pepole who stay: \"+ str(stay))\n",
        "print (\"num of pepole who churn: \"+ str(churn))"
      ],
      "metadata": {
        "colab": {
          "base_uri": "https://localhost:8080/"
        },
        "id": "_BV2WjD0C7kK",
        "outputId": "1f47172a-8043-42da-94ea-7177c4437d2f"
      },
      "execution_count": null,
      "outputs": [
        {
          "output_type": "stream",
          "name": "stdout",
          "text": [
            "num of pepole who stay: 50326\n",
            "num of pepole who churn: 49317\n"
          ]
        }
      ]
    },
    {
      "cell_type": "code",
      "source": [
        "sizes = [50326,49317]\n",
        "labels='NO','YES'\n",
        "explode = (0, 0.1)  \n",
        "fig1, ax1 = plt.subplots()\n",
        "ax1.pie(sizes, explode=explode,autopct='%1.1f%%',shadow=True, startangle=75 )\n",
        "ax1.axis('equal') \n",
        "ax1.set_title(\"Client Churn Distribution\")\n",
        "\n",
        "ax1.legend(labels)\n",
        "\n",
        "plt.show()"
      ],
      "metadata": {
        "colab": {
          "base_uri": "https://localhost:8080/",
          "height": 264
        },
        "id": "BTkGAtm7C7nl",
        "outputId": "5341829a-cb62-429a-def6-e3cf23a3d9c7"
      },
      "execution_count": null,
      "outputs": [
        {
          "output_type": "display_data",
          "data": {
            "text/plain": [
              "<Figure size 432x288 with 1 Axes>"
            ],
            "image/png": "[encoded data removed]"
          },
          "metadata": {}
        }
      ]
    },
    {
      "cell_type": "code",
      "source": [
        "df.columns[df.isnull().any()]"
      ],
      "metadata": {
        "colab": {
          "base_uri": "https://localhost:8080/"
        },
        "id": "IjFsu5bpDUF4",
        "outputId": "1c5ca2d3-1fbc-47bd-de60-b3fbf804ab2e"
      },
      "execution_count": null,
      "outputs": [
        {
          "output_type": "execute_result",
          "data": {
            "text/plain": [
              "Index(['rev_Mean', 'mou_Mean', 'totmrc_Mean', 'da_Mean', 'ovrmou_Mean',\n",
              "       'ovrrev_Mean', 'vceovr_Mean', 'datovr_Mean', 'roam_Mean', 'change_mou',\n",
              "       'change_rev', 'avg6mou', 'avg6qty', 'avg6rev', 'prizm_social_one',\n",
              "       'area', 'dualband', 'refurb_new', 'hnd_price', 'phones', 'models',\n",
              "       'hnd_webcap', 'truck', 'rv', 'ownrent', 'lor', 'dwlltype', 'marital',\n",
              "       'adults', 'infobase', 'income', 'numbcars', 'HHstatin', 'dwllsize',\n",
              "       'forgntvl', 'ethnic', 'kid0_2', 'kid3_5', 'kid6_10', 'kid11_15',\n",
              "       'kid16_17', 'creditcd', 'eqpdays'],\n",
              "      dtype='object')"
            ]
          },
          "metadata": {},
          "execution_count": 10
        }
      ]
    },
    {
      "cell_type": "code",
      "source": [
        "miss = df.isnull().sum().sort_values(ascending = False).head(44)\n",
        "miss_per = (miss/len(df))*100\n",
        "\n",
        "# Percentage of missing values\n",
        "pd.DataFrame({'No. missing values': miss, '% of missing data': miss_per.values})"
      ],
      "metadata": {
        "colab": {
          "base_uri": "https://localhost:8080/",
          "height": 1000
        },
        "id": "87e6FK57DUOq",
        "outputId": "ad059264-4f4f-4142-ee70-4b1b61803a0b"
      },
      "execution_count": null,
      "outputs": [
        {
          "output_type": "execute_result",
          "data": {
            "text/plain": [
              "                  No. missing values  % of missing data\n",
              "numbcars                       49366             49.366\n",
              "dwllsize                       38308             38.308\n",
              "HHstatin                       37923             37.923\n",
              "ownrent                        33706             33.706\n",
              "dwlltype                       31909             31.909\n",
              "lor                            30190             30.190\n",
              "income                         25436             25.436\n",
              "adults                         23019             23.019\n",
              "infobase                       22079             22.079\n",
              "hnd_webcap                     10189             10.189\n",
              "prizm_social_one                7388              7.388\n",
              "avg6qty                         2839              2.839\n",
              "avg6rev                         2839              2.839\n",
              "avg6mou                         2839              2.839\n",
              "kid6_10                         1732              1.732\n",
              "kid16_17                        1732              1.732\n",
              "rv                              1732              1.732\n",
              "kid3_5                          1732              1.732\n",
              "marital                         1732              1.732\n",
              "creditcd                        1732              1.732\n",
              "kid11_15                        1732              1.732\n",
              "forgntvl                        1732              1.732\n",
              "ethnic                          1732              1.732\n",
              "kid0_2                          1732              1.732\n",
              "truck                           1732              1.732\n",
              "change_rev                       891              0.891\n",
              "change_mou                       891              0.891\n",
              "hnd_price                        847              0.847\n",
              "totmrc_Mean                      357              0.357\n",
              "da_Mean                          357              0.357\n",
              "ovrmou_Mean                      357              0.357\n",
              "vceovr_Mean                      357              0.357\n",
              "ovrrev_Mean                      357              0.357\n",
              "datovr_Mean                      357              0.357\n",
              "roam_Mean                        357              0.357\n",
              "mou_Mean                         357              0.357\n",
              "rev_Mean                         357              0.357\n",
              "area                              40              0.040\n",
              "models                             1              0.001\n",
              "phones                             1              0.001\n",
              "refurb_new                         1              0.001\n",
              "dualband                           1              0.001\n",
              "eqpdays                            1              0.001\n",
              "drop_blk_Mean                      0              0.000"
            ],
            "text/html": [
              "\n",
              "  <div id=\"df-b20fe17b-6b73-4e97-b4f3-45aea832bfbd\">\n",
              "    <div class=\"colab-df-container\">\n",
              "      <div>\n",
              "<style scoped>\n",
              "    .dataframe tbody tr th:only-of-type {\n",
              "        vertical-align: middle;\n",
              "    }\n",
              "\n",
              "    .dataframe tbody tr th {\n",
              "        vertical-align: top;\n",
              "    }\n",
              "\n",
              "    .dataframe thead th {\n",
              "        text-align: right;\n",
              "    }\n",
              "</style>\n",
              "<table border=\"1\" class=\"dataframe\">\n",
              "  <thead>\n",
              "    <tr style=\"text-align: right;\">\n",
              "      <th></th>\n",
              "      <th>No. missing values</th>\n",
              "      <th>% of missing data</th>\n",
              "    </tr>\n",
              "  </thead>\n",
              "  <tbody>\n",
              "    <tr>\n",
              "      <th>numbcars</th>\n",
              "      <td>49366</td>\n",
              "      <td>49.366</td>\n",
              "    </tr>\n",
              "    <tr>\n",
              "      <th>dwllsize</th>\n",
              "      <td>38308</td>\n",
              "      <td>38.308</td>\n",
              "    </tr>\n",
              "    <tr>\n",
              "      <th>HHstatin</th>\n",
              "      <td>37923</td>\n",
              "      <td>37.923</td>\n",
              "    </tr>\n",
              "    <tr>\n",
              "      <th>ownrent</th>\n",
              "      <td>33706</td>\n",
              "      <td>33.706</td>\n",
              "    </tr>\n",
              "    <tr>\n",
              "      <th>dwlltype</th>\n",
              "      <td>31909</td>\n",
              "      <td>31.909</td>\n",
              "    </tr>\n",
              "    <tr>\n",
              "      <th>lor</th>\n",
              "      <td>30190</td>\n",
              "      <td>30.190</td>\n",
              "    </tr>\n",
              "    <tr>\n",
              "      <th>income</th>\n",
              "      <td>25436</td>\n",
              "      <td>25.436</td>\n",
              "    </tr>\n",
              "    <tr>\n",
              "      <th>adults</th>\n",
              "      <td>23019</td>\n",
              "      <td>23.019</td>\n",
              "    </tr>\n",
              "    <tr>\n",
              "      <th>infobase</th>\n",
              "      <td>22079</td>\n",
              "      <td>22.079</td>\n",
              "    </tr>\n",
              "    <tr>\n",
              "      <th>hnd_webcap</th>\n",
              "      <td>10189</td>\n",
              "      <td>10.189</td>\n",
              "    </tr>\n",
              "    <tr>\n",
              "      <th>prizm_social_one</th>\n",
              "      <td>7388</td>\n",
              "      <td>7.388</td>\n",
              "    </tr>\n",
              "    <tr>\n",
              "      <th>avg6qty</th>\n",
              "      <td>2839</td>\n",
              "      <td>2.839</td>\n",
              "    </tr>\n",
              "    <tr>\n",
              "      <th>avg6rev</th>\n",
              "      <td>2839</td>\n",
              "      <td>2.839</td>\n",
              "    </tr>\n",
              "    <tr>\n",
              "      <th>avg6mou</th>\n",
              "      <td>2839</td>\n",
              "      <td>2.839</td>\n",
              "    </tr>\n",
              "    <tr>\n",
              "      <th>kid6_10</th>\n",
              "      <td>1732</td>\n",
              "      <td>1.732</td>\n",
              "    </tr>\n",
              "    <tr>\n",
              "      <th>kid16_17</th>\n",
              "      <td>1732</td>\n",
              "      <td>1.732</td>\n",
              "    </tr>\n",
              "    <tr>\n",
              "      <th>rv</th>\n",
              "      <td>1732</td>\n",
              "      <td>1.732</td>\n",
              "    </tr>\n",
              "    <tr>\n",
              "      <th>kid3_5</th>\n",
              "      <td>1732</td>\n",
              "      <td>1.732</td>\n",
              "    </tr>\n",
              "    <tr>\n",
              "      <th>marital</th>\n",
              "      <td>1732</td>\n",
              "      <td>1.732</td>\n",
              "    </tr>\n",
              "    <tr>\n",
              "      <th>creditcd</th>\n",
              "      <td>1732</td>\n",
              "      <td>1.732</td>\n",
              "    </tr>\n",
              "    <tr>\n",
              "      <th>kid11_15</th>\n",
              "      <td>1732</td>\n",
              "      <td>1.732</td>\n",
              "    </tr>\n",
              "    <tr>\n",
              "      <th>forgntvl</th>\n",
              "      <td>1732</td>\n",
              "      <td>1.732</td>\n",
              "    </tr>\n",
              "    <tr>\n",
              "      <th>ethnic</th>\n",
              "      <td>1732</td>\n",
              "      <td>1.732</td>\n",
              "    </tr>\n",
              "    <tr>\n",
              "      <th>kid0_2</th>\n",
              "      <td>1732</td>\n",
              "      <td>1.732</td>\n",
              "    </tr>\n",
              "    <tr>\n",
              "      <th>truck</th>\n",
              "      <td>1732</td>\n",
              "      <td>1.732</td>\n",
              "    </tr>\n",
              "    <tr>\n",
              "      <th>change_rev</th>\n",
              "      <td>891</td>\n",
              "      <td>0.891</td>\n",
              "    </tr>\n",
              "    <tr>\n",
              "      <th>change_mou</th>\n",
              "      <td>891</td>\n",
              "      <td>0.891</td>\n",
              "    </tr>\n",
              "    <tr>\n",
              "      <th>hnd_price</th>\n",
              "      <td>847</td>\n",
              "      <td>0.847</td>\n",
              "    </tr>\n",
              "    <tr>\n",
              "      <th>totmrc_Mean</th>\n",
              "      <td>357</td>\n",
              "      <td>0.357</td>\n",
              "    </tr>\n",
              "    <tr>\n",
              "      <th>da_Mean</th>\n",
              "      <td>357</td>\n",
              "      <td>0.357</td>\n",
              "    </tr>\n",
              "    <tr>\n",
              "      <th>ovrmou_Mean</th>\n",
              "      <td>357</td>\n",
              "      <td>0.357</td>\n",
              "    </tr>\n",
              "    <tr>\n",
              "      <th>vceovr_Mean</th>\n",
              "      <td>357</td>\n",
              "      <td>0.357</td>\n",
              "    </tr>\n",
              "    <tr>\n",
              "      <th>ovrrev_Mean</th>\n",
              "      <td>357</td>\n",
              "      <td>0.357</td>\n",
              "    </tr>\n",
              "    <tr>\n",
              "      <th>datovr_Mean</th>\n",
              "      <td>357</td>\n",
              "      <td>0.357</td>\n",
              "    </tr>\n",
              "    <tr>\n",
              "      <th>roam_Mean</th>\n",
              "      <td>357</td>\n",
              "      <td>0.357</td>\n",
              "    </tr>\n",
              "    <tr>\n",
              "      <th>mou_Mean</th>\n",
              "      <td>357</td>\n",
              "      <td>0.357</td>\n",
              "    </tr>\n",
              "    <tr>\n",
              "      <th>rev_Mean</th>\n",
              "      <td>357</td>\n",
              "      <td>0.357</td>\n",
              "    </tr>\n",
              "    <tr>\n",
              "      <th>area</th>\n",
              "      <td>40</td>\n",
              "      <td>0.040</td>\n",
              "    </tr>\n",
              "    <tr>\n",
              "      <th>models</th>\n",
              "      <td>1</td>\n",
              "      <td>0.001</td>\n",
              "    </tr>\n",
              "    <tr>\n",
              "      <th>phones</th>\n",
              "      <td>1</td>\n",
              "      <td>0.001</td>\n",
              "    </tr>\n",
              "    <tr>\n",
              "      <th>refurb_new</th>\n",
              "      <td>1</td>\n",
              "      <td>0.001</td>\n",
              "    </tr>\n",
              "    <tr>\n",
              "      <th>dualband</th>\n",
              "      <td>1</td>\n",
              "      <td>0.001</td>\n",
              "    </tr>\n",
              "    <tr>\n",
              "      <th>eqpdays</th>\n",
              "      <td>1</td>\n",
              "      <td>0.001</td>\n",
              "    </tr>\n",
              "    <tr>\n",
              "      <th>drop_blk_Mean</th>\n",
              "      <td>0</td>\n",
              "      <td>0.000</td>\n",
              "    </tr>\n",
              "  </tbody>\n",
              "</table>\n",
              "</div>\n",
              "      <button class=\"colab-df-convert\" onclick=\"convertToInteractive('df-b20fe17b-6b73-4e97-b4f3-45aea832bfbd')\"\n",
              "              title=\"Convert this dataframe to an interactive table.\"\n",
              "              style=\"display:none;\">\n",
              "        \n",
              "  <svg xmlns=\"http://www.w3.org/2000/svg\" height=\"24px\"viewBox=\"0 0 24 24\"\n",
              "       width=\"24px\">\n",
              "    <path d=\"M0 0h24v24H0V0z\" fill=\"none\"/>\n",
              "    <path d=\"M18.56 5.44l.94 2.06.94-2.06 2.06-.94-2.06-.94-.94-2.06-.94 2.06-2.06.94zm-11 1L8.5 8.5l.94-2.06 2.06-.94-2.06-.94L8.5 2.5l-.94 2.06-2.06.94zm10 10l.94 2.06.94-2.06 2.06-.94-2.06-.94-.94-2.06-.94 2.06-2.06.94z\"/><path d=\"M17.41 7.96l-1.37-1.37c-.4-.4-.92-.59-1.43-.59-.52 0-1.04.2-1.43.59L10.3 9.45l-7.72 7.72c-.78.78-.78 2.05 0 2.83L4 21.41c.39.39.9.59 1.41.59.51 0 1.02-.2 1.41-.59l7.78-7.78 2.81-2.81c.8-.78.8-2.07 0-2.86zM5.41 20L4 18.59l7.72-7.72 1.47 1.35L5.41 20z\"/>\n",
              "  </svg>\n",
              "      </button>\n",
              "      \n",
              "  <style>\n",
              "    .colab-df-container {\n",
              "      display:flex;\n",
              "      flex-wrap:wrap;\n",
              "      gap: 12px;\n",
              "    }\n",
              "\n",
              "    .colab-df-convert {\n",
              "      background-color: #E8F0FE;\n",
              "      border: none;\n",
              "      border-radius: 50%;\n",
              "      cursor: pointer;\n",
              "      display: none;\n",
              "      fill: #1967D2;\n",
              "      height: 32px;\n",
              "      padding: 0 0 0 0;\n",
              "      width: 32px;\n",
              "    }\n",
              "\n",
              "    .colab-df-convert:hover {\n",
              "      background-color: #E2EBFA;\n",
              "      box-shadow: 0px 1px 2px rgba(60, 64, 67, 0.3), 0px 1px 3px 1px rgba(60, 64, 67, 0.15);\n",
              "      fill: #174EA6;\n",
              "    }\n",
              "\n",
              "    [theme=dark] .colab-df-convert {\n",
              "      background-color: #3B4455;\n",
              "      fill: #D2E3FC;\n",
              "    }\n",
              "\n",
              "    [theme=dark] .colab-df-convert:hover {\n",
              "      background-color: #434B5C;\n",
              "      box-shadow: 0px 1px 3px 1px rgba(0, 0, 0, 0.15);\n",
              "      filter: drop-shadow(0px 1px 2px rgba(0, 0, 0, 0.3));\n",
              "      fill: #FFFFFF;\n",
              "    }\n",
              "  </style>\n",
              "\n",
              "      <script>\n",
              "        const buttonEl =\n",
              "          document.querySelector('#df-b20fe17b-6b73-4e97-b4f3-45aea832bfbd button.colab-df-convert');\n",
              "        buttonEl.style.display =\n",
              "          google.colab.kernel.accessAllowed ? 'block' : 'none';\n",
              "\n",
              "        async function convertToInteractive(key) {\n",
              "          const element = document.querySelector('#df-b20fe17b-6b73-4e97-b4f3-45aea832bfbd');\n",
              "          const dataTable =\n",
              "            await google.colab.kernel.invokeFunction('convertToInteractive',\n",
              "                                                     [key], {});\n",
              "          if (!dataTable) return;\n",
              "\n",
              "          const docLinkHtml = 'Like what you see? Visit the ' +\n",
              "            '<a target=\"_blank\" href=https://colab.research.google.com/notebooks/data_table.ipynb>data table notebook</a>'\n",
              "            + ' to learn more about interactive tables.';\n",
              "          element.innerHTML = '';\n",
              "          dataTable['output_type'] = 'display_data';\n",
              "          await google.colab.output.renderOutput(dataTable, element);\n",
              "          const docLink = document.createElement('div');\n",
              "          docLink.innerHTML = docLinkHtml;\n",
              "          element.appendChild(docLink);\n",
              "        }\n",
              "      </script>\n",
              "    </div>\n",
              "  </div>\n",
              "  "
            ]
          },
          "metadata": {},
          "execution_count": 11
        }
      ]
    },
    {
      "cell_type": "code",
      "source": [
        "df.dropna(inplace=True)"
      ],
      "metadata": {
        "id": "dCVQecj_DUV6"
      },
      "execution_count": null,
      "outputs": []
    },
    {
      "cell_type": "code",
      "source": [
        "display(df.shape)"
      ],
      "metadata": {
        "colab": {
          "base_uri": "https://localhost:8080/",
          "height": 34
        },
        "id": "Ojv_DkgdDUdZ",
        "outputId": "8502695c-3872-44ff-8b0b-5b0f0af5c7b9"
      },
      "execution_count": null,
      "outputs": [
        {
          "output_type": "display_data",
          "data": {
            "text/plain": [
              "(26705, 99)"
            ]
          },
          "metadata": {}
        }
      ]
    },
    {
      "cell_type": "code",
      "source": [
        "sum(df.isnull().sum()>0)"
      ],
      "metadata": {
        "colab": {
          "base_uri": "https://localhost:8080/"
        },
        "id": "cn4iZ84QDUlH",
        "outputId": "eec599a7-92b7-4f93-83c4-9b79d77150de"
      },
      "execution_count": null,
      "outputs": [
        {
          "output_type": "execute_result",
          "data": {
            "text/plain": [
              "0"
            ]
          },
          "metadata": {},
          "execution_count": 14
        }
      ]
    },
    {
      "cell_type": "code",
      "source": [
        "encoding_col=[]\n",
        "for i in df.select_dtypes(include='object'):   \n",
        "    print(i,'-->',df[i].nunique())\n",
        "    encoding_col.append(i)"
      ],
      "metadata": {
        "colab": {
          "base_uri": "https://localhost:8080/"
        },
        "id": "-Cux_1JpDUsa",
        "outputId": "a11a254e-326f-4bdf-dfa8-5ee6a7548f1f"
      },
      "execution_count": null,
      "outputs": [
        {
          "output_type": "stream",
          "name": "stdout",
          "text": [
            "new_cell --> 3\n",
            "crclscod --> 43\n",
            "asl_flag --> 2\n",
            "prizm_social_one --> 5\n",
            "area --> 19\n",
            "dualband --> 3\n",
            "refurb_new --> 2\n",
            "hnd_webcap --> 2\n",
            "ownrent --> 2\n",
            "dwlltype --> 2\n",
            "marital --> 5\n",
            "infobase --> 1\n",
            "HHstatin --> 6\n",
            "dwllsize --> 15\n",
            "ethnic --> 16\n",
            "kid0_2 --> 2\n",
            "kid3_5 --> 2\n",
            "kid6_10 --> 2\n",
            "kid11_15 --> 2\n",
            "kid16_17 --> 2\n",
            "creditcd --> 2\n"
          ]
        }
      ]
    },
    {
      "cell_type": "code",
      "source": [
        "df2 = df.copy()\n",
        "df2 = pd.get_dummies(df2, drop_first=True, columns = encoding_col, prefix = encoding_col)"
      ],
      "metadata": {
        "id": "jGi_lbOPDUzM"
      },
      "execution_count": null,
      "outputs": []
    },
    {
      "cell_type": "code",
      "source": [
        "display(df.shape)\n",
        "display(df2.shape)"
      ],
      "metadata": {
        "colab": {
          "base_uri": "https://localhost:8080/",
          "height": 52
        },
        "id": "ac9oUzOMDlEG",
        "outputId": "e4c15013-b7b7-4535-ec0c-507ebee2e750"
      },
      "execution_count": null,
      "outputs": [
        {
          "output_type": "display_data",
          "data": {
            "text/plain": [
              "(26705, 99)"
            ]
          },
          "metadata": {}
        },
        {
          "output_type": "display_data",
          "data": {
            "text/plain": [
              "(26705, 195)"
            ]
          },
          "metadata": {}
        }
      ]
    },
    {
      "cell_type": "code",
      "source": [
        "corr_matrix = df.corr().abs()\n",
        "# print(corr_matrix)\n",
        "\n",
        "# Select upper triangle of correlation matrix\n",
        "upper = corr_matrix.where(np.triu(np.ones(corr_matrix.shape), k=1).astype(np.bool))\n",
        "\n",
        "# Find index of feature columns with correlation greater than 0.95\n",
        "to_drop = [column for column in upper.columns if any(upper[column] > 0.95)]\n",
        "# Drop features \n",
        "df.drop(df[to_drop], axis=1,inplace=True)"
      ],
      "metadata": {
        "colab": {
          "base_uri": "https://localhost:8080/"
        },
        "id": "esgNCZCdDlLW",
        "outputId": "3a9342c2-3bb4-4905-8b8b-e7602a9513b2"
      },
      "execution_count": null,
      "outputs": [
        {
          "output_type": "stream",
          "name": "stderr",
          "text": [
            "/usr/local/lib/python3.7/dist-packages/ipykernel_launcher.py:5: DeprecationWarning: `np.bool` is a deprecated alias for the builtin `bool`. To silence this warning, use `bool` by itself. Doing this will not modify any behavior and is safe. If you specifically wanted the numpy scalar type, use `np.bool_` here.\n",
            "Deprecated in NumPy 1.20; for more details and guidance: https://numpy.org/devdocs/release/1.20.0-notes.html#deprecations\n",
            "  \"\"\"\n"
          ]
        }
      ]
    },
    {
      "cell_type": "code",
      "source": [
        "\n",
        "from sklearn.tree import DecisionTreeClassifier\n",
        "from sklearn.naive_bayes import GaussianNB\n",
        "\n",
        "#Import metric for performance evaluation\n",
        "from sklearn.metrics import accuracy_score, precision_score, recall_score, f1_score, classification_report,confusion_matrix, ConfusionMatrixDisplay\n",
        "\n",
        "#Split data into train and test sets\n",
        "from sklearn.model_selection import train_test_split, cross_val_score, StratifiedKFold, GridSearchCV"
      ],
      "metadata": {
        "id": "gq8HjVbRDlQ6"
      },
      "execution_count": null,
      "outputs": []
    },
    {
      "cell_type": "code",
      "source": [
        "df2[\"churn\"]= df2[\"churn\"].apply(lambda x: 0 if  x==0 else 1  )"
      ],
      "metadata": {
        "id": "gv6tThTkDlT5"
      },
      "execution_count": null,
      "outputs": []
    },
    {
      "cell_type": "code",
      "source": [
        "def modeling(alg, alg_name, params={}):\n",
        "    model = alg(**params) #Instantiating the algorithm class and unpacking parameters if any\n",
        "    model.fit(X_train, y_train)\n",
        "    y_pred = model.predict(X_test)\n",
        "      \n",
        "    #Performance evaluation\n",
        "    def print_scores(alg, y_true, y_pred):\n",
        "        print(alg_name)\n",
        "        acc_score = accuracy_score(y_true, y_pred)\n",
        "        print(\"accuracy: \",acc_score)\n",
        "        pre_score = precision_score(y_true, y_pred)\n",
        "        print(\"precision: \",pre_score)\n",
        "        rec_score = recall_score(y_true, y_pred)                            \n",
        "        print(\"recall: \",rec_score)\n",
        "        f_score = f1_score(y_true, y_pred, average='weighted')\n",
        "        print(\"f1_score: \",f_score)        \n",
        "    print_scores(alg, y_test, y_pred)\n",
        "    \n",
        "    \n",
        "    cm = confusion_matrix(y_test, y_pred)\n",
        "    #Create the Confusion Matrix Display Object(cmd_obj). \n",
        "    cmd_obj = ConfusionMatrixDisplay(cm, display_labels=['churn', 'notChurn'])\n",
        "\n",
        "    #The plot() function has to be called for the sklearn visualization\n",
        "    cmd_obj.plot()\n",
        "\n",
        "    #Use the Axes attribute 'ax_' to get to the underlying Axes object.\n",
        "    #The Axes object controls the labels for the X and the Y axes. It also controls the title.\n",
        "    cmd_obj.ax_.set(\n",
        "                    title='Sklearn Confusion Matrix with labels!!', \n",
        "                    xlabel='Predicted Churn', \n",
        "                    ylabel='Actual Churn')\n",
        "    #Finally, call the matplotlib show() function to display the visualization of the Confusion Matrix.\n",
        "    plt.show()\n",
        "    \n",
        "    return model"
      ],
      "metadata": {
        "id": "Qzaxk9mfDlZo"
      },
      "execution_count": null,
      "outputs": []
    },
    {
      "cell_type": "code",
      "source": [
        "X = df2.drop('churn', axis=1)\n",
        "y = df2['churn']\n",
        "\n",
        "X_train, X_test, y_train, y_test = train_test_split(X, y, test_size=0.4, random_state=0)\n",
        "print(\"X_train\",len(X_train))\n",
        "print(\"X_test\",len(X_test))\n",
        "print(\"y_train\",len(y_train))\n",
        "print(\"y_test\",len(y_test))"
      ],
      "metadata": {
        "colab": {
          "base_uri": "https://localhost:8080/"
        },
        "id": "uYuajkorJOyO",
        "outputId": "bb626b78-dd79-4153-b764-85aeb7736429"
      },
      "execution_count": null,
      "outputs": [
        {
          "output_type": "stream",
          "name": "stdout",
          "text": [
            "X_train 16023\n",
            "X_test 10682\n",
            "y_train 16023\n",
            "y_test 10682\n"
          ]
        }
      ]
    },
    {
      "cell_type": "code",
      "source": [
        "nb_model = modeling(GaussianNB, \"Naive Bayes Classification\")"
      ],
      "metadata": {
        "colab": {
          "base_uri": "https://localhost:8080/",
          "height": 382
        },
        "id": "eaKqxWd-JRCU",
        "outputId": "68f0029f-ffcf-42f0-cfa8-259e2c422af0"
      },
      "execution_count": null,
      "outputs": [
        {
          "output_type": "stream",
          "name": "stdout",
          "text": [
            "Naive Bayes Classification\n",
            "accuracy:  0.5306122448979592\n",
            "precision:  0.4967105263157895\n",
            "recall:  0.030127693535514765\n",
            "f1_score:  0.3916128241096339\n"
          ]
        },
        {
          "output_type": "display_data",
          "data": {
            "text/plain": [
              "<Figure size 432x288 with 2 Axes>"
            ],
            "image/png": "[encoded data removed]"
          },
          "metadata": {
            "needs_background": "light"
          }
        }
      ]
    },
    {
      "cell_type": "code",
      "source": [
        "X = df2.drop('churn', axis=1)\n",
        "y = df2['churn']\n",
        "\n",
        "X_train, X_test, y_train, y_test = train_test_split(X, y, test_size=0.3, random_state=0)\n",
        "print(\"X_train\",len(X_train))\n",
        "print(\"X_test\",len(X_test))\n",
        "print(\"y_train\",len(y_train))\n",
        "print(\"y_test\",len(y_test))"
      ],
      "metadata": {
        "colab": {
          "base_uri": "https://localhost:8080/"
        },
        "id": "J4Hjmr0UJUjn",
        "outputId": "e31d51bb-3dc8-4a40-e7a9-112bff8a3ede"
      },
      "execution_count": null,
      "outputs": [
        {
          "output_type": "stream",
          "name": "stdout",
          "text": [
            "X_train 18693\n",
            "X_test 8012\n",
            "y_train 18693\n",
            "y_test 8012\n"
          ]
        }
      ]
    },
    {
      "cell_type": "code",
      "source": [
        "nb_model = modeling(GaussianNB, \"Naive Bayes Classification\")"
      ],
      "metadata": {
        "colab": {
          "base_uri": "https://localhost:8080/",
          "height": 382
        },
        "id": "O-Yq1c1qJZCd",
        "outputId": "873f6fb7-4299-4dce-fcbf-fe436bd0768b"
      },
      "execution_count": null,
      "outputs": [
        {
          "output_type": "stream",
          "name": "stdout",
          "text": [
            "Naive Bayes Classification\n",
            "accuracy:  0.5468047928107839\n",
            "precision:  0.5802469135802469\n",
            "recall:  0.10066934404283802\n",
            "f1_score:  0.4472992791148289\n"
          ]
        },
        {
          "output_type": "display_data",
          "data": {
            "text/plain": [
              "<Figure size 432x288 with 2 Axes>"
            ],
            "image/png": "[encoded data removed]"
          },
          "metadata": {
            "needs_background": "light"
          }
        }
      ]
    },
    {
      "cell_type": "code",
      "source": [
        "X = df2.drop('churn', axis=1)\n",
        "y = df2['churn']\n",
        "\n",
        "X_train, X_test, y_train, y_test = train_test_split(X, y, test_size=0.2, random_state=0)\n",
        "print(\"X_train\",len(X_train))\n",
        "print(\"X_test\",len(X_test))\n",
        "print(\"y_train\",len(y_train))\n",
        "print(\"y_test\",len(y_test))"
      ],
      "metadata": {
        "colab": {
          "base_uri": "https://localhost:8080/"
        },
        "id": "e0l7sU-mJeRa",
        "outputId": "77a1fa85-3de2-4d2f-c290-a95f26105cca"
      },
      "execution_count": null,
      "outputs": [
        {
          "output_type": "stream",
          "name": "stdout",
          "text": [
            "X_train 21364\n",
            "X_test 5341\n",
            "y_train 21364\n",
            "y_test 5341\n"
          ]
        }
      ]
    },
    {
      "cell_type": "code",
      "source": [
        "nb_model = modeling(GaussianNB, \"Naive Bayes Classification\")"
      ],
      "metadata": {
        "colab": {
          "base_uri": "https://localhost:8080/",
          "height": 382
        },
        "id": "LedQnplbJiMP",
        "outputId": "8aaa6ea7-4a8f-4653-f151-23edfef41de6"
      },
      "execution_count": null,
      "outputs": [
        {
          "output_type": "stream",
          "name": "stdout",
          "text": [
            "Naive Bayes Classification\n",
            "accuracy:  0.5568245646882606\n",
            "precision:  0.5746799431009957\n",
            "recall:  0.1634304207119741\n",
            "f1_score:  0.48557998647668194\n"
          ]
        },
        {
          "output_type": "display_data",
          "data": {
            "text/plain": [
              "<Figure size 432x288 with 2 Axes>"
            ],
            "image/png": "[encoded data removed]"
          },
          "metadata": {
            "needs_background": "light"
          }
        }
      ]
    },
    {
      "cell_type": "code",
      "source": [
        "X = df2.drop('churn', axis=1)\n",
        "y = df2['churn']\n",
        "\n",
        "X_train, X_test, y_train, y_test = train_test_split(X, y, test_size=0.1, random_state=0)\n",
        "print(\"X_train\",len(X_train))\n",
        "print(\"X_test\",len(X_test))\n",
        "print(\"y_train\",len(y_train))\n",
        "print(\"y_test\",len(y_test))"
      ],
      "metadata": {
        "colab": {
          "base_uri": "https://localhost:8080/"
        },
        "id": "0f8gSQEMJmdT",
        "outputId": "bd021596-b4e2-49b7-d1d3-80b33a1a9db8"
      },
      "execution_count": null,
      "outputs": [
        {
          "output_type": "stream",
          "name": "stdout",
          "text": [
            "X_train 24034\n",
            "X_test 2671\n",
            "y_train 24034\n",
            "y_test 2671\n"
          ]
        }
      ]
    },
    {
      "cell_type": "code",
      "source": [
        "nb_model = modeling(GaussianNB, \"Naive Bayes Classification\")"
      ],
      "metadata": {
        "colab": {
          "base_uri": "https://localhost:8080/",
          "height": 382
        },
        "id": "D0TTy7cDJs8T",
        "outputId": "651f09bb-e14c-4a8e-e885-dbeca3d24b9d"
      },
      "execution_count": null,
      "outputs": [
        {
          "output_type": "stream",
          "name": "stdout",
          "text": [
            "Naive Bayes Classification\n",
            "accuracy:  0.5672032946461999\n",
            "precision:  0.6264044943820225\n",
            "recall:  0.17897271268057785\n",
            "f1_score:  0.4984778522779271\n"
          ]
        },
        {
          "output_type": "display_data",
          "data": {
            "text/plain": [
              "<Figure size 432x288 with 2 Axes>"
            ],
            "image/png": "[encoded data removed]"
          },
          "metadata": {
            "needs_background": "light"
          }
        }
      ]
    },
    {
      "cell_type": "code",
      "source": [
        "import tensorflow as tf"
      ],
      "metadata": {
        "id": "9ZgIfVEuJxAZ"
      },
      "execution_count": null,
      "outputs": []
    },
    {
      "cell_type": "code",
      "source": [
        "ann = tf.keras.models.Sequential()"
      ],
      "metadata": {
        "id": "z__S3aR9J4fM"
      },
      "execution_count": null,
      "outputs": []
    },
    {
      "cell_type": "code",
      "source": [
        "ann.add(tf.keras.layers.Dense(units=6,activation=\"relu\"))"
      ],
      "metadata": {
        "id": "jJLNq-y5J612"
      },
      "execution_count": null,
      "outputs": []
    },
    {
      "cell_type": "code",
      "source": [
        "ann.add(tf.keras.layers.Dense(units=6,activation=\"relu\"))"
      ],
      "metadata": {
        "id": "LSAMSrSVJ-fr"
      },
      "execution_count": null,
      "outputs": []
    },
    {
      "cell_type": "code",
      "source": [
        "ann.add(tf.keras.layers.Dense(units=1,activation=\"sigmoid\"))"
      ],
      "metadata": {
        "id": "B0HqXp_jKBT9"
      },
      "execution_count": null,
      "outputs": []
    },
    {
      "cell_type": "code",
      "source": [
        "ann.compile(optimizer=\"adam\",loss=\"binary_crossentropy\",metrics=['accuracy'])"
      ],
      "metadata": {
        "id": "2NjmV1VXKD0O"
      },
      "execution_count": null,
      "outputs": []
    },
    {
      "cell_type": "code",
      "source": [
        "ann.fit(X_train,y_train,batch_size=32,epochs = 50)"
      ],
      "metadata": {
        "colab": {
          "base_uri": "https://localhost:8080/"
        },
        "id": "QpIEVqcYKGN1",
        "outputId": "39d46e9e-841a-43c3-fa5f-903cd90f9db5"
      },
      "execution_count": null,
      "outputs": [
        {
          "output_type": "stream",
          "name": "stdout",
          "text": [
            "Epoch 1/50\n",
            "752/752 [==============================] - 2s 2ms/step - loss: 16.3635 - accuracy: 0.5305\n",
            "Epoch 2/50\n",
            "752/752 [==============================] - 1s 2ms/step - loss: 1.0286 - accuracy: 0.5395\n",
            "Epoch 3/50\n",
            "752/752 [==============================] - 1s 2ms/step - loss: 0.8883 - accuracy: 0.5456\n",
            "Epoch 4/50\n",
            "752/752 [==============================] - 1s 2ms/step - loss: 0.8435 - accuracy: 0.5553\n",
            "Epoch 5/50\n",
            "752/752 [==============================] - 2s 2ms/step - loss: 0.8110 - accuracy: 0.5528\n",
            "Epoch 6/50\n",
            "752/752 [==============================] - 2s 2ms/step - loss: 0.7918 - accuracy: 0.5595\n",
            "Epoch 7/50\n",
            "752/752 [==============================] - 2s 2ms/step - loss: 0.7880 - accuracy: 0.5552\n",
            "Epoch 8/50\n",
            "752/752 [==============================] - 1s 2ms/step - loss: 0.7460 - accuracy: 0.5667\n",
            "Epoch 9/50\n",
            "752/752 [==============================] - 1s 2ms/step - loss: 0.7644 - accuracy: 0.5575\n",
            "Epoch 10/50\n",
            "752/752 [==============================] - 1s 2ms/step - loss: 0.7345 - accuracy: 0.5645\n",
            "Epoch 11/50\n",
            "752/752 [==============================] - 1s 2ms/step - loss: 0.7019 - accuracy: 0.5710\n",
            "Epoch 12/50\n",
            "752/752 [==============================] - 1s 2ms/step - loss: 0.6872 - accuracy: 0.5691\n",
            "Epoch 13/50\n",
            "752/752 [==============================] - 1s 2ms/step - loss: 0.6876 - accuracy: 0.5691\n",
            "Epoch 14/50\n",
            "752/752 [==============================] - 1s 2ms/step - loss: 0.6843 - accuracy: 0.5625\n",
            "Epoch 15/50\n",
            "752/752 [==============================] - 1s 2ms/step - loss: 0.6827 - accuracy: 0.5636\n",
            "Epoch 16/50\n",
            "752/752 [==============================] - 1s 2ms/step - loss: 0.6829 - accuracy: 0.5638\n",
            "Epoch 17/50\n",
            "752/752 [==============================] - 2s 2ms/step - loss: 0.6808 - accuracy: 0.5658\n",
            "Epoch 18/50\n",
            "752/752 [==============================] - 1s 2ms/step - loss: 0.6778 - accuracy: 0.5708\n",
            "Epoch 19/50\n",
            "752/752 [==============================] - 1s 2ms/step - loss: 0.6823 - accuracy: 0.5533\n",
            "Epoch 20/50\n",
            "752/752 [==============================] - 2s 2ms/step - loss: 0.6759 - accuracy: 0.5722\n",
            "Epoch 21/50\n",
            "752/752 [==============================] - 2s 2ms/step - loss: 0.6826 - accuracy: 0.5356\n",
            "Epoch 22/50\n",
            "752/752 [==============================] - 1s 2ms/step - loss: 0.6898 - accuracy: 0.5325\n",
            "Epoch 23/50\n",
            "752/752 [==============================] - 1s 2ms/step - loss: 0.6862 - accuracy: 0.5298\n",
            "Epoch 24/50\n",
            "752/752 [==============================] - 1s 2ms/step - loss: 0.6848 - accuracy: 0.5312\n",
            "Epoch 25/50\n",
            "752/752 [==============================] - 2s 2ms/step - loss: 0.6830 - accuracy: 0.5318\n",
            "Epoch 26/50\n",
            "752/752 [==============================] - 1s 2ms/step - loss: 0.6837 - accuracy: 0.5307\n",
            "Epoch 27/50\n",
            "752/752 [==============================] - 1s 2ms/step - loss: 0.6845 - accuracy: 0.5294\n",
            "Epoch 28/50\n",
            "752/752 [==============================] - 1s 2ms/step - loss: 0.6813 - accuracy: 0.5314\n",
            "Epoch 29/50\n",
            "752/752 [==============================] - 1s 2ms/step - loss: 0.6834 - accuracy: 0.5365\n",
            "Epoch 30/50\n",
            "752/752 [==============================] - 2s 3ms/step - loss: 0.6827 - accuracy: 0.5375\n",
            "Epoch 31/50\n",
            "752/752 [==============================] - 2s 2ms/step - loss: 0.6817 - accuracy: 0.5394\n",
            "Epoch 32/50\n",
            "752/752 [==============================] - 1s 2ms/step - loss: 0.6819 - accuracy: 0.5327\n",
            "Epoch 33/50\n",
            "752/752 [==============================] - 2s 2ms/step - loss: 0.6851 - accuracy: 0.5299\n",
            "Epoch 34/50\n",
            "752/752 [==============================] - 2s 2ms/step - loss: 0.6811 - accuracy: 0.5285\n",
            "Epoch 35/50\n",
            "752/752 [==============================] - 1s 2ms/step - loss: 0.6818 - accuracy: 0.5345\n",
            "Epoch 36/50\n",
            "752/752 [==============================] - 2s 2ms/step - loss: 0.6822 - accuracy: 0.5255\n",
            "Epoch 37/50\n",
            "752/752 [==============================] - 2s 2ms/step - loss: 0.6804 - accuracy: 0.5297\n",
            "Epoch 38/50\n",
            "752/752 [==============================] - 2s 3ms/step - loss: 0.6833 - accuracy: 0.5312\n",
            "Epoch 39/50\n",
            "752/752 [==============================] - 2s 3ms/step - loss: 0.6824 - accuracy: 0.5312\n",
            "Epoch 40/50\n",
            "752/752 [==============================] - 2s 2ms/step - loss: 0.6803 - accuracy: 0.5299\n",
            "Epoch 41/50\n",
            "752/752 [==============================] - 1s 2ms/step - loss: 0.6912 - accuracy: 0.5278\n",
            "Epoch 42/50\n",
            "752/752 [==============================] - 2s 2ms/step - loss: 0.6843 - accuracy: 0.5304\n",
            "Epoch 43/50\n",
            "752/752 [==============================] - 2s 2ms/step - loss: 0.6827 - accuracy: 0.5302\n",
            "Epoch 44/50\n",
            "752/752 [==============================] - 2s 2ms/step - loss: 0.6821 - accuracy: 0.5293\n",
            "Epoch 45/50\n",
            "752/752 [==============================] - 1s 2ms/step - loss: 0.6810 - accuracy: 0.5297\n",
            "Epoch 46/50\n",
            "752/752 [==============================] - 2s 2ms/step - loss: 0.6817 - accuracy: 0.5340\n",
            "Epoch 47/50\n",
            "752/752 [==============================] - 1s 2ms/step - loss: 0.6844 - accuracy: 0.5308\n",
            "Epoch 48/50\n",
            "752/752 [==============================] - 2s 2ms/step - loss: 0.6815 - accuracy: 0.5338\n",
            "Epoch 49/50\n",
            "752/752 [==============================] - 2s 2ms/step - loss: 0.6830 - accuracy: 0.5265\n",
            "Epoch 50/50\n",
            "752/752 [==============================] - 2s 2ms/step - loss: 0.6828 - accuracy: 0.5285\n"
          ]
        },
        {
          "output_type": "execute_result",
          "data": {
            "text/plain": [
              "<keras.callbacks.History at 0x7fa757ed3d10>"
            ]
          },
          "metadata": {},
          "execution_count": 51
        }
      ]
    },
    {
      "cell_type": "code",
      "source": [
        "X = df2.drop('churn', axis=1)\n",
        "y = df2['churn']\n",
        "\n",
        "X_train, X_test, y_train, y_test = train_test_split(X, y, test_size=0.4, random_state=0)\n",
        "print(\"X_train\",len(X_train))\n",
        "print(\"X_test\",len(X_test))\n",
        "print(\"y_train\",len(y_train))\n",
        "print(\"y_test\",len(y_test))"
      ],
      "metadata": {
        "colab": {
          "base_uri": "https://localhost:8080/"
        },
        "id": "EiLUYPt6Kycs",
        "outputId": "7945b0d9-850c-4991-9719-fef7d6c0320e"
      },
      "execution_count": null,
      "outputs": [
        {
          "output_type": "stream",
          "name": "stdout",
          "text": [
            "X_train 16023\n",
            "X_test 10682\n",
            "y_train 16023\n",
            "y_test 10682\n"
          ]
        }
      ]
    },
    {
      "cell_type": "code",
      "source": [
        "y_pred = ann.predict(X_test)\n",
        "y_pred = (y_pred > 0.5)"
      ],
      "metadata": {
        "id": "1fobD974K6b9"
      },
      "execution_count": null,
      "outputs": []
    },
    {
      "cell_type": "code",
      "source": [
        "len(X_test)"
      ],
      "metadata": {
        "colab": {
          "base_uri": "https://localhost:8080/"
        },
        "id": "yARpvUhyLA1P",
        "outputId": "27581e50-4a4f-4c43-8607-9f385f171466"
      },
      "execution_count": null,
      "outputs": [
        {
          "output_type": "execute_result",
          "data": {
            "text/plain": [
              "10682"
            ]
          },
          "metadata": {},
          "execution_count": 54
        }
      ]
    },
    {
      "cell_type": "code",
      "source": [
        "len(y_pred)"
      ],
      "metadata": {
        "colab": {
          "base_uri": "https://localhost:8080/"
        },
        "id": "M85I7Lt6LEqA",
        "outputId": "fbaeb81c-9a07-4ac3-e45c-653df2cd1189"
      },
      "execution_count": null,
      "outputs": [
        {
          "output_type": "execute_result",
          "data": {
            "text/plain": [
              "10682"
            ]
          },
          "metadata": {},
          "execution_count": 55
        }
      ]
    },
    {
      "cell_type": "code",
      "source": [
        " from sklearn.metrics import accuracy_score, precision_score, recall_score, f1_score,confusion_matrix\n",
        " print(confusion_matrix(y_test, y_pred))\n",
        " print(accuracy_score(y_test,y_pred))\n",
        " print(precision_score(y_test,y_pred))\n",
        " print(recall_score(y_test,y_pred))\n",
        " print(f1_score(y_test,y_pred))"
      ],
      "metadata": {
        "colab": {
          "base_uri": "https://localhost:8080/"
        },
        "id": "FfVZLOXBLKOc",
        "outputId": "953a65e5-b670-42c6-9543-11611a398a97"
      },
      "execution_count": null,
      "outputs": [
        {
          "output_type": "stream",
          "name": "stdout",
          "text": [
            "[[ 961 4709]\n",
            " [ 411 4601]]\n",
            "0.5206890095487736\n",
            "0.4941997851772288\n",
            "0.9179968076616122\n",
            "0.6425080296048039\n"
          ]
        }
      ]
    },
    {
      "cell_type": "code",
      "source": [
        " X = df2.drop('churn', axis=1)\n",
        " y = df2['churn']\n",
        "\n",
        " X_train, X_test, y_train, y_test = train_test_split(X, y, test_size=0.3, random_state=0)\n",
        " print(\"X_train\",len(X_train))\n",
        " print(\"X_test\",len(X_test))\n",
        " print(\"y_train\",len(y_train))\n",
        " print(\"y_test\",len(y_test))"
      ],
      "metadata": {
        "colab": {
          "base_uri": "https://localhost:8080/"
        },
        "id": "6eXQhUcyLQaE",
        "outputId": "32681e79-0bf7-4295-e859-64b56adf7b46"
      },
      "execution_count": null,
      "outputs": [
        {
          "output_type": "stream",
          "name": "stdout",
          "text": [
            "X_train 18693\n",
            "X_test 8012\n",
            "y_train 18693\n",
            "y_test 8012\n"
          ]
        }
      ]
    },
    {
      "cell_type": "code",
      "source": [
        " y_pred = ann.predict(X_test)\n",
        " y_pred = (y_pred > 0.5)"
      ],
      "metadata": {
        "id": "bt3xlnbdLWAF"
      },
      "execution_count": null,
      "outputs": []
    },
    {
      "cell_type": "code",
      "source": [
        " from sklearn.metrics import accuracy_score, precision_score, recall_score, f1_score,confusion_matrix\n",
        " print(confusion_matrix(y_test, y_pred))\n",
        " print(accuracy_score(y_test,y_pred))\n",
        " print(precision_score(y_test,y_pred))\n",
        " print(recall_score(y_test,y_pred))\n",
        " print(f1_score(y_test,y_pred))"
      ],
      "metadata": {
        "colab": {
          "base_uri": "https://localhost:8080/"
        },
        "id": "449AE9ulLeCK",
        "outputId": "17403602-57f1-43d6-9294-9a648f1a02b6"
      },
      "execution_count": null,
      "outputs": [
        {
          "output_type": "stream",
          "name": "stdout",
          "text": [
            "[[ 730 3547]\n",
            " [ 316 3419]]\n",
            "0.5178482276585122\n",
            "0.49081251794430086\n",
            "0.9153949129852744\n",
            "0.6390057004018316\n"
          ]
        }
      ]
    },
    {
      "cell_type": "code",
      "source": [
        " X = df2.drop('churn', axis=1)\n",
        " y = df2['churn']\n",
        "\n",
        " X_train, X_test, y_train, y_test = train_test_split(X, y, test_size=0.2, random_state=0)\n",
        " print(\"X_train\",len(X_train))\n",
        " print(\"X_test\",len(X_test))\n",
        " print(\"y_train\",len(y_train))\n",
        " print(\"y_test\",len(y_test))"
      ],
      "metadata": {
        "colab": {
          "base_uri": "https://localhost:8080/"
        },
        "id": "QpOso9IrLjdP",
        "outputId": "6fa02fbe-0037-4ff0-9cc7-9c9267cc5999"
      },
      "execution_count": null,
      "outputs": [
        {
          "output_type": "stream",
          "name": "stdout",
          "text": [
            "X_train 21364\n",
            "X_test 5341\n",
            "y_train 21364\n",
            "y_test 5341\n"
          ]
        }
      ]
    },
    {
      "cell_type": "code",
      "source": [
        " y_pred = ann.predict(X_test)\n",
        " y_pred = (y_pred > 0.5)"
      ],
      "metadata": {
        "id": "hEF9CVb0LrXD"
      },
      "execution_count": null,
      "outputs": []
    },
    {
      "cell_type": "code",
      "source": [
        " from sklearn.metrics import accuracy_score, precision_score, recall_score, f1_score,confusion_matrix\n",
        " print(confusion_matrix(y_test, y_pred))\n",
        " print(accuracy_score(y_test,y_pred))\n",
        " print(precision_score(y_test,y_pred))\n",
        " print(recall_score(y_test,y_pred))\n",
        " print(f1_score(y_test,y_pred))"
      ],
      "metadata": {
        "colab": {
          "base_uri": "https://localhost:8080/"
        },
        "id": "HzsYC_TELtyS",
        "outputId": "7e8895dd-715d-4dbd-cb41-cbf01d4bedf5"
      },
      "execution_count": null,
      "outputs": [
        {
          "output_type": "stream",
          "name": "stdout",
          "text": [
            "[[ 508 2361]\n",
            " [ 208 2264]]\n",
            "0.5190039318479686\n",
            "0.4895135135135135\n",
            "0.9158576051779935\n",
            "0.6380160631252643\n"
          ]
        }
      ]
    },
    {
      "cell_type": "code",
      "source": [
        " X = df2.drop('churn', axis=1)\n",
        " y = df2['churn']\n",
        "\n",
        " X_train, X_test, y_train, y_test = train_test_split(X, y, test_size=0.1, random_state=0)\n",
        " print(\"X_train\",len(X_train))\n",
        " print(\"X_test\",len(X_test))\n",
        " print(\"y_train\",len(y_train))\n",
        " print(\"y_test\",len(y_test))"
      ],
      "metadata": {
        "colab": {
          "base_uri": "https://localhost:8080/"
        },
        "id": "E4fL5e9iLues",
        "outputId": "a678e332-89d4-4db4-cd1e-1e8ae16aa40c"
      },
      "execution_count": null,
      "outputs": [
        {
          "output_type": "stream",
          "name": "stdout",
          "text": [
            "X_train 24034\n",
            "X_test 2671\n",
            "y_train 24034\n",
            "y_test 2671\n"
          ]
        }
      ]
    },
    {
      "cell_type": "code",
      "source": [
        " y_pred = ann.predict(X_test)\n",
        " y_pred = (y_pred > 0.5)"
      ],
      "metadata": {
        "id": "Zw-z_6ZmLzkS"
      },
      "execution_count": null,
      "outputs": []
    },
    {
      "cell_type": "code",
      "source": [
        " from sklearn.metrics import accuracy_score, precision_score, recall_score, f1_score,confusion_matrix\n",
        " print(confusion_matrix(y_test, y_pred))\n",
        " print(accuracy_score(y_test,y_pred))\n",
        " print(precision_score(y_test,y_pred))\n",
        " print(recall_score(y_test,y_pred))\n",
        " print(f1_score(y_test,y_pred))"
      ],
      "metadata": {
        "colab": {
          "base_uri": "https://localhost:8080/"
        },
        "id": "tcQXVUBsL12o",
        "outputId": "cffbb89b-0a66-4fb0-cfaa-533cc5613f32"
      },
      "execution_count": null,
      "outputs": [
        {
          "output_type": "stream",
          "name": "stdout",
          "text": [
            "[[ 242 1183]\n",
            " [ 108 1138]]\n",
            "0.5166604268064395\n",
            "0.4903059026281775\n",
            "0.913322632423756\n",
            "0.6380712082982899\n"
          ]
        }
      ]
    },
    {
      "cell_type": "code",
      "source": [
        "X = df2.drop('churn', axis=1)\n",
        "y = df2['churn']\n",
        "\n",
        "X_train, X_test, y_train, y_test = train_test_split(X, y, test_size=0.4, random_state=0)\n",
        "print(\"X_train\",len(X_train))\n",
        "print(\"X_test\",len(X_test))\n",
        "print(\"y_train\",len(y_train))\n",
        "print(\"y_test\",len(y_test))"
      ],
      "metadata": {
        "colab": {
          "base_uri": "https://localhost:8080/"
        },
        "id": "TtNfLpgRWjGi",
        "outputId": "b1436262-d550-44d9-8cb6-d1f7738123cf"
      },
      "execution_count": null,
      "outputs": [
        {
          "output_type": "stream",
          "name": "stdout",
          "text": [
            "X_train 16023\n",
            "X_test 10682\n",
            "y_train 16023\n",
            "y_test 10682\n"
          ]
        }
      ]
    },
    {
      "cell_type": "code",
      "source": [
        "#Decision tree\n",
        "dt_model = modeling(DecisionTreeClassifier, \"Decision Tree Classification\")"
      ],
      "metadata": {
        "colab": {
          "base_uri": "https://localhost:8080/",
          "height": 382
        },
        "id": "FX5heLwXWtqP",
        "outputId": "2c87dd57-145b-4dbc-a02b-ea247ba08ba4"
      },
      "execution_count": null,
      "outputs": [
        {
          "output_type": "stream",
          "name": "stdout",
          "text": [
            "Decision Tree Classification\n",
            "accuracy:  0.555982025837858\n",
            "precision:  0.5267342476644802\n",
            "recall:  0.5287310454908221\n",
            "f1_score:  0.5560294398555091\n"
          ]
        },
        {
          "output_type": "display_data",
          "data": {
            "text/plain": [
              "<Figure size 432x288 with 2 Axes>"
            ],
            "image/png": "[encoded data removed]"
          },
          "metadata": {
            "needs_background": "light"
          }
        }
      ]
    },
    {
      "cell_type": "code",
      "source": [
        "X = df2.drop('churn', axis=1)\n",
        "y = df2['churn']\n",
        "\n",
        "X_train, X_test, y_train, y_test = train_test_split(X, y, test_size=0.3, random_state=0)\n",
        "print(\"X_train\",len(X_train))\n",
        "print(\"X_test\",len(X_test))\n",
        "print(\"y_train\",len(y_train))\n",
        "print(\"y_test\",len(y_test))"
      ],
      "metadata": {
        "colab": {
          "base_uri": "https://localhost:8080/"
        },
        "id": "yXCugNzXXXnK",
        "outputId": "d73c7e2e-57a7-479b-c5b9-e2e15cc75706"
      },
      "execution_count": null,
      "outputs": [
        {
          "output_type": "stream",
          "name": "stdout",
          "text": [
            "X_train 18693\n",
            "X_test 8012\n",
            "y_train 18693\n",
            "y_test 8012\n"
          ]
        }
      ]
    },
    {
      "cell_type": "code",
      "source": [
        "#Decision tree\n",
        "dt_model = modeling(DecisionTreeClassifier, \"Decision Tree Classification\")"
      ],
      "metadata": {
        "colab": {
          "base_uri": "https://localhost:8080/",
          "height": 382
        },
        "id": "zMG4nLWhXZ_i",
        "outputId": "5c34671e-cf7d-49f1-9a58-242631e75fa0"
      },
      "execution_count": null,
      "outputs": [
        {
          "output_type": "stream",
          "name": "stdout",
          "text": [
            "Decision Tree Classification\n",
            "accuracy:  0.5657763354967549\n",
            "precision:  0.5351648351648352\n",
            "recall:  0.5215528781793842\n",
            "f1_score:  0.5653643816107187\n"
          ]
        },
        {
          "output_type": "display_data",
          "data": {
            "text/plain": [
              "<Figure size 432x288 with 2 Axes>"
            ],
            "image/png": "[encoded data removed]"
          },
          "metadata": {
            "needs_background": "light"
          }
        }
      ]
    },
    {
      "cell_type": "code",
      "source": [
        "X = df2.drop('churn', axis=1)\n",
        "y = df2['churn']\n",
        "\n",
        "X_train, X_test, y_train, y_test = train_test_split(X, y, test_size=0.2, random_state=0)\n",
        "print(\"X_train\",len(X_train))\n",
        "print(\"X_test\",len(X_test))\n",
        "print(\"y_train\",len(y_train))\n",
        "print(\"y_test\",len(y_test))"
      ],
      "metadata": {
        "colab": {
          "base_uri": "https://localhost:8080/"
        },
        "id": "rwoYrPVsXioE",
        "outputId": "4171ab2f-35b5-4ca5-b6e0-930c6ad31d91"
      },
      "execution_count": null,
      "outputs": [
        {
          "output_type": "stream",
          "name": "stdout",
          "text": [
            "X_train 21364\n",
            "X_test 5341\n",
            "y_train 21364\n",
            "y_test 5341\n"
          ]
        }
      ]
    },
    {
      "cell_type": "code",
      "source": [
        "#Decision tree\n",
        "dt_model = modeling(DecisionTreeClassifier, \"Decision Tree Classification\")"
      ],
      "metadata": {
        "colab": {
          "base_uri": "https://localhost:8080/",
          "height": 382
        },
        "id": "QaV5PzHaXizA",
        "outputId": "b790d9e6-af66-41d4-870f-1c0cc5b0edfb"
      },
      "execution_count": null,
      "outputs": [
        {
          "output_type": "stream",
          "name": "stdout",
          "text": [
            "Decision Tree Classification\n",
            "accuracy:  0.5474630219060101\n",
            "precision:  0.5109430959013131\n",
            "recall:  0.5194174757281553\n",
            "f1_score:  0.5476956041439389\n"
          ]
        },
        {
          "output_type": "display_data",
          "data": {
            "text/plain": [
              "<Figure size 432x288 with 2 Axes>"
            ],
            "image/png": "[encoded data removed]"
          },
          "metadata": {
            "needs_background": "light"
          }
        }
      ]
    },
    {
      "cell_type": "code",
      "source": [
        "X = df2.drop('churn', axis=1)\n",
        "y = df2['churn']\n",
        "\n",
        "X_train, X_test, y_train, y_test = train_test_split(X, y, test_size=0.1, random_state=0)\n",
        "print(\"X_train\",len(X_train))\n",
        "print(\"X_test\",len(X_test))\n",
        "print(\"y_train\",len(y_train))\n",
        "print(\"y_test\",len(y_test))"
      ],
      "metadata": {
        "colab": {
          "base_uri": "https://localhost:8080/"
        },
        "id": "4bPtmOT9XjHA",
        "outputId": "9f199253-fffa-472f-80d4-dadf5d1890ca"
      },
      "execution_count": null,
      "outputs": [
        {
          "output_type": "stream",
          "name": "stdout",
          "text": [
            "X_train 24034\n",
            "X_test 2671\n",
            "y_train 24034\n",
            "y_test 2671\n"
          ]
        }
      ]
    },
    {
      "cell_type": "code",
      "source": [
        "#Decision tree\n",
        "dt_model = modeling(DecisionTreeClassifier, \"Decision Tree Classification\")"
      ],
      "metadata": {
        "colab": {
          "base_uri": "https://localhost:8080/",
          "height": 382
        },
        "id": "HsE0bUrJXjQr",
        "outputId": "2962767e-1204-49cf-befa-4dd336950d7c"
      },
      "execution_count": null,
      "outputs": [
        {
          "output_type": "stream",
          "name": "stdout",
          "text": [
            "Decision Tree Classification\n",
            "accuracy:  0.5499812804193186\n",
            "precision:  0.5177705977382876\n",
            "recall:  0.514446227929374\n",
            "f1_score:  0.549886449850143\n"
          ]
        },
        {
          "output_type": "display_data",
          "data": {
            "text/plain": [
              "<Figure size 432x288 with 2 Axes>"
            ],
            "image/png": "[encoded data removed]"
          },
          "metadata": {
            "needs_background": "light"
          }
        }
      ]
    },
    {
      "cell_type": "code",
      "source": [
        "from sklearn.neighbors import KNeighborsClassifier"
      ],
      "metadata": {
        "id": "DIzmw3tdYhmP"
      },
      "execution_count": null,
      "outputs": []
    },
    {
      "cell_type": "code",
      "source": [
        "X = df2.drop('churn', axis=1)\n",
        "y = df2['churn']\n",
        "\n",
        "X_train, X_test, y_train, y_test = train_test_split(X, y, test_size=0.4, random_state=0)\n",
        "print(\"X_train\",len(X_train))\n",
        "print(\"X_test\",len(X_test))\n",
        "print(\"y_train\",len(y_train))\n",
        "print(\"y_test\",len(y_test))"
      ],
      "metadata": {
        "colab": {
          "base_uri": "https://localhost:8080/"
        },
        "id": "kUgTc35lYTF3",
        "outputId": "306fd645-44fb-4d3a-db16-11b89bc09165"
      },
      "execution_count": null,
      "outputs": [
        {
          "output_type": "stream",
          "name": "stdout",
          "text": [
            "X_train 16023\n",
            "X_test 10682\n",
            "y_train 16023\n",
            "y_test 10682\n"
          ]
        }
      ]
    },
    {
      "cell_type": "code",
      "source": [
        "#knn\n",
        "knn_model = modeling(KNeighborsClassifier, \"KNN Classification\")"
      ],
      "metadata": {
        "colab": {
          "base_uri": "https://localhost:8080/",
          "height": 382
        },
        "id": "ljX22LM6XjlB",
        "outputId": "2cb77c6c-0639-4ba8-99f4-f59ca891a134"
      },
      "execution_count": null,
      "outputs": [
        {
          "output_type": "stream",
          "name": "stdout",
          "text": [
            "KNN Classification\n",
            "accuracy:  0.5354802471447294\n",
            "precision:  0.5056280954524989\n",
            "recall:  0.4481245011971269\n",
            "f1_score:  0.5325925605995065\n"
          ]
        },
        {
          "output_type": "display_data",
          "data": {
            "text/plain": [
              "<Figure size 432x288 with 2 Axes>"
            ],
            "image/png": "[encoded data removed]"
          },
          "metadata": {
            "needs_background": "light"
          }
        }
      ]
    },
    {
      "cell_type": "code",
      "source": [
        "X = df2.drop('churn', axis=1)\n",
        "y = df2['churn']\n",
        "\n",
        "X_train, X_test, y_train, y_test = train_test_split(X, y, test_size=0.3, random_state=0)\n",
        "print(\"X_train\",len(X_train))\n",
        "print(\"X_test\",len(X_test))\n",
        "print(\"y_train\",len(y_train))\n",
        "print(\"y_test\",len(y_test))"
      ],
      "metadata": {
        "colab": {
          "base_uri": "https://localhost:8080/"
        },
        "id": "4KNgmoNMXjuM",
        "outputId": "abcbf930-2cd9-47f4-9aa5-3f9907880d10"
      },
      "execution_count": null,
      "outputs": [
        {
          "output_type": "stream",
          "name": "stdout",
          "text": [
            "X_train 18693\n",
            "X_test 8012\n",
            "y_train 18693\n",
            "y_test 8012\n"
          ]
        }
      ]
    },
    {
      "cell_type": "code",
      "source": [
        "#knn\n",
        "knn_model = modeling(KNeighborsClassifier, \"KNN Classification\")"
      ],
      "metadata": {
        "colab": {
          "base_uri": "https://localhost:8080/",
          "height": 382
        },
        "id": "OElDQyS1Xj4x",
        "outputId": "a3fafbfc-ab2e-43dd-da47-10f9b71619ee"
      },
      "execution_count": null,
      "outputs": [
        {
          "output_type": "stream",
          "name": "stdout",
          "text": [
            "KNN Classification\n",
            "accuracy:  0.542061907139291\n",
            "precision:  0.5098566308243727\n",
            "recall:  0.4570281124497992\n",
            "f1_score:  0.5394621659593226\n"
          ]
        },
        {
          "output_type": "display_data",
          "data": {
            "text/plain": [
              "<Figure size 432x288 with 2 Axes>"
            ],
            "image/png": "[encoded data removed]"
          },
          "metadata": {
            "needs_background": "light"
          }
        }
      ]
    },
    {
      "cell_type": "code",
      "source": [
        "X = df2.drop('churn', axis=1)\n",
        "y = df2['churn']\n",
        "\n",
        "X_train, X_test, y_train, y_test = train_test_split(X, y, test_size=0.2, random_state=0)\n",
        "print(\"X_train\",len(X_train))\n",
        "print(\"X_test\",len(X_test))\n",
        "print(\"y_train\",len(y_train))\n",
        "print(\"y_test\",len(y_test))"
      ],
      "metadata": {
        "colab": {
          "base_uri": "https://localhost:8080/"
        },
        "id": "bPdSbjtfXkCt",
        "outputId": "cd814aff-99bd-4adc-f14a-01a8368d03b4"
      },
      "execution_count": null,
      "outputs": [
        {
          "output_type": "stream",
          "name": "stdout",
          "text": [
            "X_train 21364\n",
            "X_test 5341\n",
            "y_train 21364\n",
            "y_test 5341\n"
          ]
        }
      ]
    },
    {
      "cell_type": "code",
      "source": [
        "#knn\n",
        "knn_model = modeling(KNeighborsClassifier, \"KNN Classification\")"
      ],
      "metadata": {
        "colab": {
          "base_uri": "https://localhost:8080/",
          "height": 382
        },
        "id": "oxVPtn2VY3MZ",
        "outputId": "10252665-b3d8-4b5e-da28-7e4b64e76a54"
      },
      "execution_count": null,
      "outputs": [
        {
          "output_type": "stream",
          "name": "stdout",
          "text": [
            "KNN Classification\n",
            "accuracy:  0.5407227111027897\n",
            "precision:  0.5042889390519187\n",
            "recall:  0.4518608414239482\n",
            "f1_score:  0.5379754388430403\n"
          ]
        },
        {
          "output_type": "display_data",
          "data": {
            "text/plain": [
              "<Figure size 432x288 with 2 Axes>"
            ],
            "image/png": "[encoded data removed]"
          },
          "metadata": {
            "needs_background": "light"
          }
        }
      ]
    },
    {
      "cell_type": "code",
      "source": [
        "X = df2.drop('churn', axis=1)\n",
        "y = df2['churn']\n",
        "\n",
        "X_train, X_test, y_train, y_test = train_test_split(X, y, test_size=0.1, random_state=0)\n",
        "print(\"X_train\",len(X_train))\n",
        "print(\"X_test\",len(X_test))\n",
        "print(\"y_train\",len(y_train))\n",
        "print(\"y_test\",len(y_test))"
      ],
      "metadata": {
        "colab": {
          "base_uri": "https://localhost:8080/"
        },
        "id": "OWVA28iFY3Pl",
        "outputId": "63b4d5e7-e638-4e31-a8a1-44573ae763db"
      },
      "execution_count": null,
      "outputs": [
        {
          "output_type": "stream",
          "name": "stdout",
          "text": [
            "X_train 24034\n",
            "X_test 2671\n",
            "y_train 24034\n",
            "y_test 2671\n"
          ]
        }
      ]
    },
    {
      "cell_type": "code",
      "source": [
        "#knn\n",
        "knn_model = modeling(KNeighborsClassifier, \"KNN Classification\")"
      ],
      "metadata": {
        "colab": {
          "base_uri": "https://localhost:8080/",
          "height": 382
        },
        "id": "zStW6VDaY3eI",
        "outputId": "b2ff2707-630e-49bc-df62-74f6a9eb47d5"
      },
      "execution_count": null,
      "outputs": [
        {
          "output_type": "stream",
          "name": "stdout",
          "text": [
            "KNN Classification\n",
            "accuracy:  0.5436166229876451\n",
            "precision:  0.5128449096098954\n",
            "recall:  0.43258426966292135\n",
            "f1_score:  0.538857929427113\n"
          ]
        },
        {
          "output_type": "display_data",
          "data": {
            "text/plain": [
              "<Figure size 432x288 with 2 Axes>"
            ],
            "image/png": "[encoded data removed]"
          },
          "metadata": {
            "needs_background": "light"
          }
        }
      ]
    },
    {
      "cell_type": "markdown",
      "source": [
        "Accuracy vs Training Ratio Graph"
      ],
      "metadata": {
        "id": "MRnk91TtnokY"
      }
    },
    {
      "cell_type": "code",
      "source": [
        "import numpy as np\n",
        "import matplotlib.pyplot as plt\n",
        "\n",
        "num_items=4\n",
        "margin = 0.05\n",
        "barWidth = (1.-2.*margin)/num_items\n",
        "# set width of bar\n",
        "#barWidth = 0.25\n",
        "fig = plt.subplots(figsize =(14, 6))\n",
        "\n",
        "# set height of bar\n",
        "\n",
        "DT=[55.2,54.7,55.0,54.9]\n",
        "NB=[53.5,55.0,56.0,56.0]\n",
        "ANN=[52.06,51.78,51.90,51.66]\n",
        "KNN=[53.9,54.2,53.7,55.0]\n",
        "# Set position of bar on X axis\n",
        "\n",
        "br2 = np.arange(len(DT))\n",
        "br3 = np.arange(len(NB))\n",
        "br4 = np.arange(len(ANN))\n",
        "br5 = np.arange(len(KNN))\n",
        "br2 = [x + barWidth for x in br2]\n",
        "br3 = [x + barWidth for x in br2]\n",
        "br4 = [x + barWidth for x in br3]\n",
        "\n",
        "# Make the plot\n",
        "\n",
        "plt.bar(br2, DT, color ='g', width = barWidth,\n",
        "\t\tedgecolor ='grey', label ='DT')\n",
        "plt.bar(br3, NB, color ='b', width = barWidth,\n",
        "                edgecolor ='grey', label ='NB')\n",
        "plt.bar(br4, ANN, color ='black', width = barWidth,\n",
        "\t\tedgecolor ='grey', label ='ANN')\n",
        "plt.bar(br5, KNN, color ='yellow', width = barWidth,\n",
        "\t\tedgecolor ='grey', label ='KNN')\n",
        "# Adding Xticks\n",
        "plt.xlabel('Training Ratio', fontweight ='bold', fontsize = 15)\n",
        "plt.ylabel('Accuracy', fontweight ='bold', fontsize = 15)\n",
        "plt.xticks([r + barWidth*2 for r in range(len(KNN))],['60:40','70:30','80:20','90;10'])\n",
        "plt.title(\"Churn Predicition Evaluaution\")\n",
        "plt.legend(loc=1)\n",
        "plt.show()"
      ],
      "metadata": {
        "colab": {
          "base_uri": "https://localhost:8080/",
          "height": 409
        },
        "id": "34PL2AxQnnlt",
        "outputId": "c6f560e7-f632-4650-db50-a6176f4df78e"
      },
      "execution_count": null,
      "outputs": [
        {
          "output_type": "display_data",
          "data": {
            "text/plain": [
              "<Figure size 1008x432 with 1 Axes>"
            ],
            "image/png": "[encoded data removed]"
          },
          "metadata": {
            "needs_background": "light"
          }
        }
      ]
    },
    {
      "cell_type": "markdown",
      "source": [
        "Precision Vs Training Ratio"
      ],
      "metadata": {
        "id": "JwnZT_SeqIWc"
      }
    },
    {
      "cell_type": "code",
      "source": [
        "import numpy as np\n",
        "import matplotlib.pyplot as plt\n",
        "\n",
        "num_items=4\n",
        "margin = 0.05\n",
        "barWidth = (1.-2.*margin)/num_items\n",
        "# set width of bar\n",
        "#barWidth = 0.25\n",
        "fig = plt.subplots(figsize =(14, 6))\n",
        "\n",
        "# set height of bar\n",
        "\n",
        "DT=[51.99,51.54,51.80,51.75]\n",
        "NB=[51.88,59.05,52.48,58.57]\n",
        "ANN=[49.41,49.08,48.95,49.03]\n",
        "KNN=[50.63,51.21,50.22,52.48]\n",
        "# Set position of bar on X axis\n",
        "\n",
        "br2 = np.arange(len(DT))\n",
        "br3 = np.arange(len(NB))\n",
        "br4 = np.arange(len(ANN))\n",
        "br5 = np.arange(len(KNN))\n",
        "br2 = [x + barWidth for x in br2]\n",
        "br3 = [x + barWidth for x in br2]\n",
        "br4 = [x + barWidth for x in br3]\n",
        "\n",
        "# Make the plot\n",
        "\n",
        "plt.bar(br2, DT, color ='g', width = barWidth,\n",
        "\t\tedgecolor ='grey', label ='DT')\n",
        "plt.bar(br3, NB, color ='b', width = barWidth,\n",
        "                edgecolor ='grey', label ='NB')\n",
        "plt.bar(br4, ANN, color ='black', width = barWidth,\n",
        "\t\tedgecolor ='grey', label ='ANN')\n",
        "plt.bar(br5, KNN, color ='yellow', width = barWidth,\n",
        "\t\tedgecolor ='grey', label ='KNN')\n",
        "# Adding Xticks\n",
        "plt.xlabel('Training Ratio', fontweight ='bold', fontsize = 15)\n",
        "plt.ylabel('Precision', fontweight ='bold', fontsize = 15)\n",
        "plt.xticks([r + barWidth*2 for r in range(len(KNN))],['60:40','70:30','80:20','90;10'])\n",
        "plt.title(\"Churn Predicition Evaluaution\")\n",
        "plt.legend(loc=1)\n",
        "plt.show()"
      ],
      "metadata": {
        "colab": {
          "base_uri": "https://localhost:8080/",
          "height": 409
        },
        "id": "blXB4TUbp5EZ",
        "outputId": "da95b725-a565-446b-9e01-e77683f9acd8"
      },
      "execution_count": null,
      "outputs": [
        {
          "output_type": "display_data",
          "data": {
            "text/plain": [
              "<Figure size 1008x432 with 1 Axes>"
            ],
            "image/png": "[encoded data removed]"
          },
          "metadata": {
            "needs_background": "light"
          }
        }
      ]
    },
    {
      "cell_type": "code",
      "source": [
        "import numpy as np\n",
        "import matplotlib.pyplot as plt\n",
        "\n",
        "num_items=4\n",
        "margin = 0.05\n",
        "barWidth = (1.-2.*margin)/num_items\n",
        "# set width of bar\n",
        "#barWidth = 0.25\n",
        "fig = plt.subplots(figsize =(14, 6))\n",
        "\n",
        "# set height of bar\n",
        "\n",
        "DT=[52.03,51.00,52.44,48.99]\n",
        "NB=[3.01,10.06,16.343,17.897]\n",
        "ANN=[96.32,96.20,51.91,96.79]\n",
        "KNN=[45.71,45.60,44.25,47.39]\n",
        "# Set position of bar on X axis\n",
        "\n",
        "br2 = np.arange(len(DT))\n",
        "br3 = np.arange(len(NB))\n",
        "br4 = np.arange(len(ANN))\n",
        "br5 = np.arange(len(KNN))\n",
        "br2 = [x + barWidth for x in br2]\n",
        "br3 = [x + barWidth for x in br2]\n",
        "br4 = [x + barWidth for x in br3]\n",
        "\n",
        "# Make the plot\n",
        "\n",
        "plt.bar(br2, DT, color ='g', width = barWidth,\n",
        "\t\tedgecolor ='grey', label ='DT')\n",
        "plt.bar(br3, NB, color ='b', width = barWidth,\n",
        "                edgecolor ='grey', label ='NB')\n",
        "plt.bar(br4, ANN, color ='black', width = barWidth,\n",
        "\t\tedgecolor ='grey', label ='ANN')\n",
        "plt.bar(br5, KNN, color ='yellow', width = barWidth,\n",
        "\t\tedgecolor ='grey', label ='KNN')\n",
        "# Adding Xticks\n",
        "plt.xlabel('Training Ratio', fontweight ='bold', fontsize = 15)\n",
        "plt.ylabel('Recall Score', fontweight ='bold', fontsize = 15)\n",
        "plt.xticks([r + barWidth*2 for r in range(len(KNN))],['60:40','70:30','80:20','90;10'])\n",
        "plt.title(\"Churn Predicition Evaluaution\")\n",
        "plt.legend(loc=1)\n",
        "plt.show()"
      ],
      "metadata": {
        "id": "jFvo75CGtVl0"
      },
      "execution_count": null,
      "outputs": []
    }
  ]
}